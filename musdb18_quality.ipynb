{
 "cells": [
  {
   "cell_type": "code",
   "execution_count": 1,
   "id": "def214a2-3f3b-4cb7-9ae0-4da067fa173a",
   "metadata": {},
   "outputs": [
    {
     "name": "stderr",
     "output_type": "stream",
     "text": [
      "2023-10-25 15:37:05.830677: I tensorflow/core/util/port.cc:111] oneDNN custom operations are on. You may see slightly different numerical results due to floating-point round-off errors from different computation orders. To turn them off, set the environment variable `TF_ENABLE_ONEDNN_OPTS=0`.\n",
      "2023-10-25 15:37:05.849366: E tensorflow/compiler/xla/stream_executor/cuda/cuda_dnn.cc:9342] Unable to register cuDNN factory: Attempting to register factory for plugin cuDNN when one has already been registered\n",
      "2023-10-25 15:37:05.849380: E tensorflow/compiler/xla/stream_executor/cuda/cuda_fft.cc:609] Unable to register cuFFT factory: Attempting to register factory for plugin cuFFT when one has already been registered\n",
      "2023-10-25 15:37:05.849395: E tensorflow/compiler/xla/stream_executor/cuda/cuda_blas.cc:1518] Unable to register cuBLAS factory: Attempting to register factory for plugin cuBLAS when one has already been registered\n",
      "2023-10-25 15:37:05.853454: I tensorflow/core/platform/cpu_feature_guard.cc:182] This TensorFlow binary is optimized to use available CPU instructions in performance-critical operations.\n",
      "To enable the following instructions: AVX2 AVX_VNNI FMA, in other operations, rebuild TensorFlow with the appropriate compiler flags.\n"
     ]
    }
   ],
   "source": [
    "from datasets import load_dataset\n",
    "from utils import mp3_compress, opus_compress, encodec_compress\n",
    "from utils import hf_audio_encode\n",
    "from demucs.separate import Separator\n",
    "import encodec\n",
    "import numpy as np\n",
    "import matplotlib.pyplot as plt\n",
    "import torch\n",
    "import torchaudio\n",
    "import tempfile\n",
    "import museval\n",
    "import cdpam\n",
    "import torch\n",
    "import gc"
   ]
  },
  {
   "cell_type": "code",
   "execution_count": 2,
   "id": "a55007bf-fbf9-4fe0-99bc-9f721587d196",
   "metadata": {},
   "outputs": [],
   "source": [
    "device = \"cuda\"\n",
    "encodec_model_48_6 = encodec.EncodecModel.encodec_model_48khz()\n",
    "encodec_model_48_6.set_target_bandwidth(6)\n",
    "encodec_model_48_6.to(device);"
   ]
  },
  {
   "cell_type": "code",
   "execution_count": 3,
   "id": "ac9c375a-a40c-4f32-8259-d9631089573e",
   "metadata": {},
   "outputs": [],
   "source": [
    "def mp3_compress_musdb(sample):\n",
    "    audio = torch.tensor(sample['mixture']['array']).to(torch.float32)\n",
    "    fs = sample['mixture']['sampling_rate']\n",
    "    audio,bps = mp3_compress(audio,fs)\n",
    "    sample['mixture'] = hf_audio_encode(audio,fs)\n",
    "    sample['bps'] = bps\n",
    "    return sample\n",
    "\n",
    "def opus_compress_musdb(sample):\n",
    "    audio = torch.tensor(sample['mixture']['array']).to(torch.float32)\n",
    "    fs = sample['mixture']['sampling_rate']\n",
    "    audio,bps = opus_compress(audio,fs)\n",
    "    sample['mixture'] = hf_audio_encode(audio,fs)\n",
    "    sample['bps'] = bps\n",
    "    return sample\n",
    "\n",
    "def encodec_48_6_compress_musdb(sample):\n",
    "    audio = torch.tensor(sample['mixture']['array']).to(torch.float32)\n",
    "    fs = sample['mixture']['sampling_rate']\n",
    "    audio,bps = encodec_compress(audio,fs,encodec_model_48_6,device)\n",
    "    sample['mixture'] = hf_audio_encode(audio,fs)\n",
    "    sample['bps'] = bps\n",
    "    return sample"
   ]
  },
  {
   "cell_type": "code",
   "execution_count": 4,
   "id": "c1a4c11e-43c4-4194-bd9a-6dfedd283df4",
   "metadata": {},
   "outputs": [],
   "source": [
    "audio_compression_methods = [\n",
    "    mp3_compress_musdb,\n",
    "    opus_compress_musdb,\n",
    "    encodec_48_6_compress_musdb\n",
    "]\n",
    "musdb = load_dataset(\"danjacobellis/musdb\",split='test')\n",
    "musdb_mix = musdb.remove_columns(['drums', 'bass', 'other', 'vocals'])\n",
    "separator = Separator()\n",
    "fs = musdb[0]['mixture']['sampling_rate']"
   ]
  },
  {
   "cell_type": "code",
   "execution_count": 5,
   "id": "70eb5f8e-0da9-4696-90cc-c2f4b1a4823c",
   "metadata": {},
   "outputs": [],
   "source": [
    "musdb_compressed = [musdb_mix.map(method).with_format(\"torch\") for method in audio_compression_methods]"
   ]
  },
  {
   "cell_type": "code",
   "execution_count": 6,
   "id": "2d5e7bc9-919c-4d0e-9b8d-13807e16c4bd",
   "metadata": {},
   "outputs": [],
   "source": [
    "cdpam_metric = cdpam.CDPAM()\n",
    "mse_metric = torch.nn.MSELoss()\n",
    "cdpam_distance = []\n",
    "mse_distance = []\n",
    "min_len = 999999999;\n",
    "for dataset in musdb_compressed:\n",
    "    cdpam_distance.append([])\n",
    "    mse_distance.append([])\n",
    "    for i_sample,sample in enumerate(musdb_mix.with_format(\"torch\")):\n",
    "        compressed_sample = dataset[i_sample]\n",
    "        sample_rate = sample['mixture']['sampling_rate']\n",
    "        reference = sample['mixture']['array']\n",
    "        distorted = compressed_sample['mixture']['array']\n",
    "        cdpam_distance[-1].append([])\n",
    "        mse_distance[-1].append([])\n",
    "        for i_chunk in range(50):\n",
    "            ind1 = 100000*i_chunk\n",
    "            ind2 = 100000*(i_chunk+1)\n",
    "            ref = reference[:,ind1:ind2]\n",
    "            dis = distorted[:,ind1:ind2]\n",
    "            cdpam_distance[-1][-1].append(cdpam_metric.forward(ref,dis).detach().cpu().mean().item())\n",
    "            mse_distance[-1][-1].append(mse_metric.forward(ref,dis).detach().cpu().mean().item())\n",
    "            gc.collect()\n",
    "            torch.cuda.empty_cache()"
   ]
  },
  {
   "cell_type": "code",
   "execution_count": 8,
   "id": "8f54aaec-3a47-43cb-a7ac-f25926d79817",
   "metadata": {},
   "outputs": [
    {
     "data": {
      "text/plain": [
       "[29.171616564378304, 22.170907366259108, 24.956013231093944]"
      ]
     },
     "execution_count": 8,
     "metadata": {},
     "output_type": "execute_result"
    }
   ],
   "source": [
    "PSNR = [-10*np.log10(np.mean(d)) for d in mse_distance]\n",
    "PSNR"
   ]
  },
  {
   "cell_type": "code",
   "execution_count": 9,
   "id": "4a95d0ac-230b-42dd-8f80-8f79aac8ef9c",
   "metadata": {},
   "outputs": [
    {
     "data": {
      "text/plain": [
       "[38.432159884379466, 36.46644744986545, 45.33439174079839]"
      ]
     },
     "execution_count": 9,
     "metadata": {},
     "output_type": "execute_result"
    }
   ],
   "source": [
    "cdpam_PSNR = [-10*np.log10(np.mean(d)) for d in cdpam_distance]\n",
    "cdpam_PSNR"
   ]
  },
  {
   "cell_type": "code",
   "execution_count": 12,
   "id": "b52196d6-9ee7-4cc9-9c3a-4d7253d51d52",
   "metadata": {},
   "outputs": [
    {
     "data": {
      "text/plain": [
       "[0.36287301778793335, 0.06615560501813889, 0.06871381402015686]"
      ]
     },
     "execution_count": 12,
     "metadata": {},
     "output_type": "execute_result"
    }
   ],
   "source": [
    "audio_bps = [method['bps'].mean().item() for method in musdb_compressed]\n",
    "audio_bps"
   ]
  }
 ],
 "metadata": {
  "kernelspec": {
   "display_name": "Python 3 (ipykernel)",
   "language": "python",
   "name": "python3"
  },
  "language_info": {
   "codemirror_mode": {
    "name": "ipython",
    "version": 3
   },
   "file_extension": ".py",
   "mimetype": "text/x-python",
   "name": "python",
   "nbconvert_exporter": "python",
   "pygments_lexer": "ipython3",
   "version": "3.10.12"
  }
 },
 "nbformat": 4,
 "nbformat_minor": 5
}
