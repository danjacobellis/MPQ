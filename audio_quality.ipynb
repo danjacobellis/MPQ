{
 "cells": [
  {
   "cell_type": "code",
   "execution_count": 14,
   "id": "449da814-ea8d-4800-aee6-39b1a7a6fdf2",
   "metadata": {},
   "outputs": [],
   "source": [
    "from datasets import load_dataset\n",
    "from utils import mp3_compress, opus_compress, encodec_compress\n",
    "from utils import hf_audio_encode\n",
    "from transformers import pipeline\n",
    "from evaluate import evaluator\n",
    "import encodec\n",
    "import matplotlib.pyplot as plt\n",
    "import numpy as np\n",
    "from log_wmse_audio_quality import calculate_log_wmse"
   ]
  },
  {
   "cell_type": "code",
   "execution_count": 2,
   "id": "3cd696aa-693f-42ac-a4b0-2c3e9312c5c6",
   "metadata": {},
   "outputs": [],
   "source": [
    "def mp3_compress_cv(sample):\n",
    "    audio = sample['audio']['array'].unsqueeze(0)\n",
    "    fs = sample['audio']['sampling_rate']\n",
    "    audio,bps = mp3_compress(audio,fs)\n",
    "    encoded = hf_audio_encode(audio,fs)\n",
    "    sample['audio'] = encoded\n",
    "    sample['bps'] = bps\n",
    "    return sample\n",
    "def opus_compress_cv(sample):\n",
    "    audio = sample['audio']['array'].unsqueeze(0)\n",
    "    fs = sample['audio']['sampling_rate']\n",
    "    audio,bps = opus_compress(audio,fs)\n",
    "    encoded = hf_audio_encode(audio,fs)\n",
    "    sample['audio'] = encoded\n",
    "    sample['bps'] = bps\n",
    "    return sample\n",
    "\n",
    "device = \"cuda\"\n",
    "encodec_model_48_3 = encodec.EncodecModel.encodec_model_48khz()\n",
    "encodec_model_48_3.set_target_bandwidth(6)\n",
    "encodec_model_48_3.to(device)\n",
    "def encodec_48_3_compress(sample):\n",
    "    audio = sample['audio']['array'].unsqueeze(0)\n",
    "    fs = sample['audio']['sampling_rate']\n",
    "    audio,bps = encodec_compress(audio,fs, encodec_model_48_3, device)\n",
    "    encoded = hf_audio_encode(audio,fs)\n",
    "    sample['audio'] = encoded\n",
    "    sample['bps'] = bps\n",
    "    return sample "
   ]
  },
  {
   "cell_type": "code",
   "execution_count": 3,
   "id": "b215ebd8-3c13-4511-baa5-c519e2f7539e",
   "metadata": {},
   "outputs": [],
   "source": [
    "audio_compression_methods = [\n",
    "    mp3_compress_cv,\n",
    "    opus_compress_cv,\n",
    "    encodec_48_3_compress\n",
    "]"
   ]
  },
  {
   "cell_type": "code",
   "execution_count": 4,
   "id": "aab3f0a9-b5c3-4e2f-b799-7644fd8e0cb8",
   "metadata": {},
   "outputs": [],
   "source": [
    "common_voice = load_dataset(\"mozilla-foundation/common_voice_11_0\",\n",
    "                             \"en\",\n",
    "                             split=\"validation[:802]\"\n",
    "                            ).with_format(\"torch\")"
   ]
  },
  {
   "cell_type": "code",
   "execution_count": 5,
   "id": "395ef5e4-ca47-485f-832e-9f0be540dddb",
   "metadata": {},
   "outputs": [
    {
     "name": "stderr",
     "output_type": "stream",
     "text": [
      "Parameter 'indices'=<generator object <genexpr> at 0x7f7f46522b90> of the transform datasets.arrow_dataset.Dataset.select couldn't be hashed properly, a random hash was used instead. Make sure your transforms and parameters are serializable with pickle or dill for the dataset fingerprinting and caching to work. If you reuse this transform, the caching mechanism will consider it to be different from the previous calls and recompute everything. This warning is only showed once. Subsequent hashing failures won't be showed.\n"
     ]
    }
   ],
   "source": [
    "exclude_idx = [362, 711]\n",
    "common_voice = [common_voice.select(\n",
    "    (\n",
    "        i for i in range(len(common_voice)) \n",
    "        if i not in set(exclude_idx)\n",
    "    )\n",
    ")]"
   ]
  },
  {
   "cell_type": "code",
   "execution_count": null,
   "id": "14780f0d-32e3-442c-bf73-5ca72865d272",
   "metadata": {},
   "outputs": [],
   "source": [
    "for method in audio_compression_methods:\n",
    "    common_voice.append(common_voice[0].map(method))"
   ]
  },
  {
   "cell_type": "code",
   "execution_count": 23,
   "id": "2d5e7bc9-919c-4d0e-9b8d-13807e16c4bd",
   "metadata": {},
   "outputs": [],
   "source": [
    "log_wmse = []\n",
    "for dataset in common_voice:\n",
    "    log_wmse.append([])\n",
    "    for i_sample,sample in enumerate(common_voice[0]):\n",
    "        compressed_sample = dataset[i_sample]\n",
    "        sample_rate = sample['audio']['sampling_rate']\n",
    "        reference = sample['audio']['array'].numpy()\n",
    "        distorted = compressed_sample['audio']['array'].numpy()\n",
    "        log_wmse[-1].append(calculate_log_wmse(reference,reference,distorted,sample_rate))"
   ]
  },
  {
   "cell_type": "code",
   "execution_count": 38,
   "id": "e778744a-6a48-4fc8-9ba1-34e97b810a52",
   "metadata": {},
   "outputs": [],
   "source": [
    "avg_quality = [np.mean(log_wmse_i) for log_wmse_i in log_wmse][1:]"
   ]
  },
  {
   "cell_type": "code",
   "execution_count": 42,
   "id": "4a95d0ac-230b-42dd-8f80-8f79aac8ef9c",
   "metadata": {},
   "outputs": [
    {
     "data": {
      "text/plain": [
       "[11.787493639651426, 4.458682799052945, 6.812554373030236]"
      ]
     },
     "execution_count": 42,
     "metadata": {},
     "output_type": "execute_result"
    }
   ],
   "source": [
    "avg_quality"
   ]
  },
  {
   "cell_type": "code",
   "execution_count": 35,
   "id": "b52196d6-9ee7-4cc9-9c3a-4d7253d51d52",
   "metadata": {},
   "outputs": [],
   "source": [
    "audio_bps = [method['bps'].mean().item() for method in common_voice[1:]]"
   ]
  },
  {
   "cell_type": "code",
   "execution_count": 43,
   "id": "7ba4650f-8b92-4add-8d04-50f373a3eb9d",
   "metadata": {},
   "outputs": [
    {
     "data": {
      "text/plain": [
       "[0.6700001358985901, 0.14700429141521454, 0.12622013688087463]"
      ]
     },
     "execution_count": 43,
     "metadata": {},
     "output_type": "execute_result"
    }
   ],
   "source": [
    "audio_bps"
   ]
  }
 ],
 "metadata": {
  "kernelspec": {
   "display_name": "Python 3 (ipykernel)",
   "language": "python",
   "name": "python3"
  },
  "language_info": {
   "codemirror_mode": {
    "name": "ipython",
    "version": 3
   },
   "file_extension": ".py",
   "mimetype": "text/x-python",
   "name": "python",
   "nbconvert_exporter": "python",
   "pygments_lexer": "ipython3",
   "version": "3.10.12"
  }
 },
 "nbformat": 4,
 "nbformat_minor": 5
}
