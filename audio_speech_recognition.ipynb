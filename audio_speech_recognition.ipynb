{
 "cells": [
  {
   "cell_type": "code",
   "execution_count": 1,
   "id": "449da814-ea8d-4800-aee6-39b1a7a6fdf2",
   "metadata": {},
   "outputs": [
    {
     "name": "stderr",
     "output_type": "stream",
     "text": [
      "2023-10-12 12:37:13.941857: I tensorflow/core/util/port.cc:110] oneDNN custom operations are on. You may see slightly different numerical results due to floating-point round-off errors from different computation orders. To turn them off, set the environment variable `TF_ENABLE_ONEDNN_OPTS=0`.\n",
      "2023-10-12 12:37:13.962497: I tensorflow/core/platform/cpu_feature_guard.cc:182] This TensorFlow binary is optimized to use available CPU instructions in performance-critical operations.\n",
      "To enable the following instructions: AVX2 AVX_VNNI FMA, in other operations, rebuild TensorFlow with the appropriate compiler flags.\n",
      "2023-10-12 12:37:14.250966: W tensorflow/compiler/tf2tensorrt/utils/py_utils.cc:38] TF-TRT Warning: Could not find TensorRT\n"
     ]
    }
   ],
   "source": [
    "from datasets import load_dataset\n",
    "from utils import mp3_compress, opus_compress, encodec_compress\n",
    "from transformers import pipeline\n",
    "from evaluate import evaluator\n",
    "import encodec"
   ]
  },
  {
   "cell_type": "code",
   "execution_count": 2,
   "id": "3cd696aa-693f-42ac-a4b0-2c3e9312c5c6",
   "metadata": {},
   "outputs": [],
   "source": [
    "def mp3_compress_cv(sample):\n",
    "    audio = sample['audio']['array'].unsqueeze(0)\n",
    "    fs = sample['audio']['sampling_rate']\n",
    "    audio,bps = mp3_compress(audio,fs)\n",
    "    sample['audio']['array'] = audio[0][0]\n",
    "    sample['bps'] = bps\n",
    "    return sample\n",
    "def opus_compress_cv(sample):\n",
    "    audio = sample['audio']['array'].unsqueeze(1)\n",
    "    fs = sample['audio']['sampling_rate']\n",
    "    audio,bps = opus_compress(audio,fs)\n",
    "    sample['audio']['array'] = audio[0]\n",
    "    sample['bps'] = bps\n",
    "    return sample\n",
    "\n",
    "device = \"cuda\"\n",
    "encodec_model_48_6 = encodec.EncodecModel.encodec_model_48khz()\n",
    "encodec_model_48_6.set_target_bandwidth(6)\n",
    "encodec_model_48_6.to(device)\n",
    "def encodec_48_6_compress(sample):\n",
    "    audio = sample['audio']['array'].unsqueeze(0)\n",
    "    fs = sample['audio']['sampling_rate']\n",
    "    audio,bps = encodec_compress(audio,fs, encodec_model_48_6, device)\n",
    "    sample['audio']['array'] = audio\n",
    "    sample['bps'] = bps\n",
    "    return sample "
   ]
  },
  {
   "cell_type": "code",
   "execution_count": 3,
   "id": "b215ebd8-3c13-4511-baa5-c519e2f7539e",
   "metadata": {},
   "outputs": [],
   "source": [
    "audio_compression_methods = [\n",
    "    mp3_compress_cv,\n",
    "    opus_compress_cv,\n",
    "    encodec_48_6_compress\n",
    "]\n",
    "models = [\n",
    "    \"openai/whisper-tiny\",\n",
    "    \"openai/whisper-small\",\n",
    "    \"openai/whisper-medium\"\n",
    "]"
   ]
  },
  {
   "cell_type": "code",
   "execution_count": 4,
   "id": "aab3f0a9-b5c3-4e2f-b799-7644fd8e0cb8",
   "metadata": {},
   "outputs": [],
   "source": [
    "common_voice = [load_dataset(\"mozilla-foundation/common_voice_11_0\",\n",
    "                             \"en\",\n",
    "                             split=\"validation[:300]\"\n",
    "                            ).with_format(\"torch\")]"
   ]
  },
  {
   "cell_type": "code",
   "execution_count": 5,
   "id": "14780f0d-32e3-442c-bf73-5ca72865d272",
   "metadata": {},
   "outputs": [],
   "source": [
    "for method in audio_compression_methods:\n",
    "    common_voice.append(common_voice[0].map(method))"
   ]
  },
  {
   "cell_type": "code",
   "execution_count": null,
   "id": "dcda12db-e5a3-41f1-b042-d02296cdb5e2",
   "metadata": {},
   "outputs": [],
   "source": [
    "pipe = []\n",
    "for model in models:\n",
    "    pipe.append(\n",
    "        pipeline(\n",
    "            task=\"automatic-speech-recognition\",\n",
    "            model=model,\n",
    "            device=\"cuda:0\"\n",
    "        )\n",
    "    )"
   ]
  },
  {
   "cell_type": "code",
   "execution_count": 7,
   "id": "0587d592-4f5b-41ac-b3fb-ee7aa15b4926",
   "metadata": {},
   "outputs": [
    {
     "data": {
      "text/plain": [
       "True"
      ]
     },
     "execution_count": 7,
     "metadata": {},
     "output_type": "execute_result"
    }
   ],
   "source": [
    "task_evaluator = evaluator(\"automatic-speech-recognition\")\n",
    "task_evaluator.PIPELINE_KWARGS.pop('truncation', None)"
   ]
  },
  {
   "cell_type": "code",
   "execution_count": 8,
   "id": "19b38fbd-c58e-47ee-921b-276ba16f0a49",
   "metadata": {},
   "outputs": [],
   "source": [
    "eval_results = []\n",
    "for i_method,method in enumerate(common_voice):\n",
    "    eval_results.append([])\n",
    "    for i_model,model in enumerate(pipe):\n",
    "        eval_results[i_method].append(\n",
    "            task_evaluator.compute(\n",
    "                model_or_pipeline=model,\n",
    "                data=method.with_format(\"numpy\"),\n",
    "                input_column=\"audio\",\n",
    "                label_column=\"sentence\",\n",
    "                metric=\"wer\",\n",
    "            )\n",
    "        )"
   ]
  },
  {
   "cell_type": "code",
   "execution_count": 9,
   "id": "83dbf8bb-9761-4bc2-a1cc-2693aaa6b6ac",
   "metadata": {},
   "outputs": [
    {
     "data": {
      "text/plain": [
       "[[0.32797202797202796, 0.17097902097902098, 0.1486013986013986],\n",
       " [0.622027972027972, 0.2409090909090909, 0.19545454545454546],\n",
       " [0.48671328671328673, 0.2947552447552448, 0.2444055944055944],\n",
       " [0.5863636363636363, 0.26153846153846155, 0.20454545454545456]]"
      ]
     },
     "execution_count": 9,
     "metadata": {},
     "output_type": "execute_result"
    }
   ],
   "source": [
    "[[rij['wer'] for rij in r] for r in eval_results]"
   ]
  }
 ],
 "metadata": {
  "kernelspec": {
   "display_name": "Python 3 (ipykernel)",
   "language": "python",
   "name": "python3"
  },
  "language_info": {
   "codemirror_mode": {
    "name": "ipython",
    "version": 3
   },
   "file_extension": ".py",
   "mimetype": "text/x-python",
   "name": "python",
   "nbconvert_exporter": "python",
   "pygments_lexer": "ipython3",
   "version": "3.10.12"
  }
 },
 "nbformat": 4,
 "nbformat_minor": 5
}
