{
 "cells": [
  {
   "cell_type": "code",
   "execution_count": 18,
   "id": "449da814-ea8d-4800-aee6-39b1a7a6fdf2",
   "metadata": {},
   "outputs": [],
   "source": [
    "from datasets import load_dataset\n",
    "from utils import mp3_compress, opus_compress, encodec_compress\n",
    "from transformers import pipeline\n",
    "from evaluate import evaluator\n",
    "import encodec"
   ]
  },
  {
   "cell_type": "code",
   "execution_count": 4,
   "id": "bef42eda-b408-40c8-931b-ade7599daeb7",
   "metadata": {},
   "outputs": [],
   "source": [
    "device = \"cuda\"\n",
    "encodec_model_48_6 = encodec.EncodecModel.encodec_model_48khz()\n",
    "encodec_model_48_6.set_target_bandwidth(6)\n",
    "encodec_model_48_6.to(device)\n",
    "def encodec_48_6_compress(sample):\n",
    "    return encodec_compress(sample, encodec_model_48_6, device)"
   ]
  },
  {
   "cell_type": "code",
   "execution_count": 15,
   "id": "b215ebd8-3c13-4511-baa5-c519e2f7539e",
   "metadata": {},
   "outputs": [],
   "source": [
    "audio_compression_methods = [\n",
    "    mp3_compress,\n",
    "    opus_compress,\n",
    "    encodec_48_6_compress\n",
    "]\n",
    "models = [\n",
    "    \"openai/whisper-small\"\n",
    "]"
   ]
  },
  {
   "cell_type": "code",
   "execution_count": 6,
   "id": "aab3f0a9-b5c3-4e2f-b799-7644fd8e0cb8",
   "metadata": {},
   "outputs": [],
   "source": [
    "common_voice = [load_dataset(\"mozilla-foundation/common_voice_11_0\",\n",
    "                            \"en\",\n",
    "                            split=\"validation[:300]\"\n",
    "                           ).with_format(\"torch\")]"
   ]
  },
  {
   "cell_type": "code",
   "execution_count": 7,
   "id": "14780f0d-32e3-442c-bf73-5ca72865d272",
   "metadata": {},
   "outputs": [
    {
     "data": {
      "application/vnd.jupyter.widget-view+json": {
       "model_id": "0692cd40c7e9408c8139259327a6eb11",
       "version_major": 2,
       "version_minor": 0
      },
      "text/plain": [
       "Map:   0%|          | 0/300 [00:00<?, ? examples/s]"
      ]
     },
     "metadata": {},
     "output_type": "display_data"
    }
   ],
   "source": [
    "for method in audio_compression_methods:\n",
    "    common_voice.append(common_voice[0].map(method))"
   ]
  },
  {
   "cell_type": "code",
   "execution_count": 16,
   "id": "dcda12db-e5a3-41f1-b042-d02296cdb5e2",
   "metadata": {},
   "outputs": [],
   "source": [
    "pipe = []\n",
    "for model in models:\n",
    "    pipe.append(\n",
    "        pipeline(\n",
    "            task=\"automatic-speech-recognition\",\n",
    "            model=model,\n",
    "            device=\"cuda:0\"\n",
    "        )\n",
    "    )"
   ]
  },
  {
   "cell_type": "code",
   "execution_count": 19,
   "id": "0587d592-4f5b-41ac-b3fb-ee7aa15b4926",
   "metadata": {},
   "outputs": [
    {
     "data": {
      "text/plain": [
       "True"
      ]
     },
     "execution_count": 19,
     "metadata": {},
     "output_type": "execute_result"
    }
   ],
   "source": [
    "task_evaluator = evaluator(\"automatic-speech-recognition\")\n",
    "task_evaluator.PIPELINE_KWARGS.pop('truncation', None)"
   ]
  },
  {
   "cell_type": "code",
   "execution_count": 22,
   "id": "19b38fbd-c58e-47ee-921b-276ba16f0a49",
   "metadata": {},
   "outputs": [],
   "source": [
    "eval_results = []\n",
    "for i_method,method in enumerate(common_voice):\n",
    "    eval_results.append([])\n",
    "    for i_model,model in enumerate(pipe):\n",
    "        eval_results[i_method].append(\n",
    "            task_evaluator.compute(\n",
    "                model_or_pipeline=model,\n",
    "                data=method.with_format(\"numpy\"),\n",
    "                input_column=\"audio\",\n",
    "                label_column=\"sentence\",\n",
    "                metric=\"wer\",\n",
    "            )\n",
    "        )"
   ]
  },
  {
   "cell_type": "code",
   "execution_count": 24,
   "id": "83dbf8bb-9761-4bc2-a1cc-2693aaa6b6ac",
   "metadata": {},
   "outputs": [
    {
     "data": {
      "text/plain": [
       "[[0.17097902097902098],\n",
       " [0.2409090909090909],\n",
       " [0.2958041958041958],\n",
       " [0.26153846153846155]]"
      ]
     },
     "execution_count": 24,
     "metadata": {},
     "output_type": "execute_result"
    }
   ],
   "source": [
    "[[rij['wer'] for rij in r] for r in eval_results]"
   ]
  }
 ],
 "metadata": {
  "kernelspec": {
   "display_name": "Python 3 (ipykernel)",
   "language": "python",
   "name": "python3"
  },
  "language_info": {
   "codemirror_mode": {
    "name": "ipython",
    "version": 3
   },
   "file_extension": ".py",
   "mimetype": "text/x-python",
   "name": "python",
   "nbconvert_exporter": "python",
   "pygments_lexer": "ipython3",
   "version": "3.10.12"
  }
 },
 "nbformat": 4,
 "nbformat_minor": 5
}
