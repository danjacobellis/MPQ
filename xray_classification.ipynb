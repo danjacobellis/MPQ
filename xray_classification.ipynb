{
 "cells": [
  {
   "cell_type": "code",
   "execution_count": 1,
   "id": "1607de3b-cd13-4ca2-ad44-2262687b966e",
   "metadata": {},
   "outputs": [
    {
     "name": "stderr",
     "output_type": "stream",
     "text": [
      "2023-10-17 10:04:50.018588: I tensorflow/core/util/port.cc:111] oneDNN custom operations are on. You may see slightly different numerical results due to floating-point round-off errors from different computation orders. To turn them off, set the environment variable `TF_ENABLE_ONEDNN_OPTS=0`.\n",
      "2023-10-17 10:04:50.037610: E tensorflow/compiler/xla/stream_executor/cuda/cuda_dnn.cc:9342] Unable to register cuDNN factory: Attempting to register factory for plugin cuDNN when one has already been registered\n",
      "2023-10-17 10:04:50.037624: E tensorflow/compiler/xla/stream_executor/cuda/cuda_fft.cc:609] Unable to register cuFFT factory: Attempting to register factory for plugin cuFFT when one has already been registered\n",
      "2023-10-17 10:04:50.037640: E tensorflow/compiler/xla/stream_executor/cuda/cuda_blas.cc:1518] Unable to register cuBLAS factory: Attempting to register factory for plugin cuBLAS when one has already been registered\n",
      "2023-10-17 10:04:50.041623: I tensorflow/core/platform/cpu_feature_guard.cc:182] This TensorFlow binary is optimized to use available CPU instructions in performance-critical operations.\n",
      "To enable the following instructions: AVX2 AVX_VNNI FMA, in other operations, rebuild TensorFlow with the appropriate compiler flags.\n"
     ]
    }
   ],
   "source": [
    "from datasets import load_dataset\n",
    "from utils import jpeg_compress, webp_compress, pad, crop, nn_compress, hific_lo_compress\n",
    "import compressai\n",
    "from evaluate import evaluator\n",
    "from transformers import pipeline\n",
    "import torch\n",
    "import numpy as np\n",
    "import matplotlib.pyplot as plt"
   ]
  },
  {
   "cell_type": "code",
   "execution_count": 2,
   "id": "97e6e0bc-3fbc-4c9d-bc40-aa8538061773",
   "metadata": {},
   "outputs": [],
   "source": [
    "def jpeg_compress_xray(sample):\n",
    "    img,bpp = jpeg_compress(sample['image'])\n",
    "    sample['image'] = img\n",
    "    sample['bpp' ] = bpp\n",
    "    return sample\n",
    "    \n",
    "def webp_compress_xray(sample):\n",
    "    img,bpp = webp_compress(sample['image'])\n",
    "    sample['image'] = img\n",
    "    sample['bpp' ] = bpp\n",
    "    return sample\n",
    "\n",
    "device = \"cuda\"\n",
    "net_mbt2018 = compressai.zoo.mbt2018(quality=1, pretrained=True).eval().to(device)\n",
    "def mbt2018_compress_xray(sample):\n",
    "    img,bpp = nn_compress(sample['image'],net_mbt2018,device)\n",
    "    sample['image'] = img\n",
    "    sample['bpp'] = bpp\n",
    "    return sample\n",
    "\n",
    "def hific_lo_compress_xray(sample):\n",
    "    img,bpp = hific_lo_compress(sample['image'])\n",
    "    sample['image'] = img\n",
    "    sample['bpp' ] = bpp\n",
    "    return sample"
   ]
  },
  {
   "cell_type": "code",
   "execution_count": 3,
   "id": "87b13540-6ab3-4f4f-9d97-4cfebb87a34a",
   "metadata": {},
   "outputs": [],
   "source": [
    "image_compression_methods = [\n",
    "    jpeg_compress_xray,\n",
    "    webp_compress_xray,\n",
    "    mbt2018_compress_xray,\n",
    "    hific_lo_compress_xray\n",
    "]\n",
    "models = [\n",
    "    \"lxyuan/vit-xray-pneumonia-classification\"\n",
    "]"
   ]
  },
  {
   "cell_type": "code",
   "execution_count": 4,
   "id": "5f76036d-fe12-41dc-94ec-79f4cbd67624",
   "metadata": {},
   "outputs": [
    {
     "data": {
      "application/vnd.jupyter.widget-view+json": {
       "model_id": "ef3c0c81b2814e28a3a1dabd3acc544d",
       "version_major": 2,
       "version_minor": 0
      },
      "text/plain": [
       "Downloading builder script:   0%|          | 0.00/3.89k [00:00<?, ?B/s]"
      ]
     },
     "metadata": {},
     "output_type": "display_data"
    },
    {
     "data": {
      "application/vnd.jupyter.widget-view+json": {
       "model_id": "109f9be40bfc4811a7dc36b00417ba33",
       "version_major": 2,
       "version_minor": 0
      },
      "text/plain": [
       "Downloading readme:   0%|          | 0.00/1.33k [00:00<?, ?B/s]"
      ]
     },
     "metadata": {},
     "output_type": "display_data"
    },
    {
     "data": {
      "application/vnd.jupyter.widget-view+json": {
       "model_id": "f0b1093aa10d47deaacb226afa3579ac",
       "version_major": 2,
       "version_minor": 0
      },
      "text/plain": [
       "Downloading data files:   0%|          | 0/3 [00:00<?, ?it/s]"
      ]
     },
     "metadata": {},
     "output_type": "display_data"
    },
    {
     "data": {
      "application/vnd.jupyter.widget-view+json": {
       "model_id": "376424d97c4c4819ab0e016a6b4da3c2",
       "version_major": 2,
       "version_minor": 0
      },
      "text/plain": [
       "Downloading data:   0%|          | 0.00/142M [00:00<?, ?B/s]"
      ]
     },
     "metadata": {},
     "output_type": "display_data"
    },
    {
     "data": {
      "application/vnd.jupyter.widget-view+json": {
       "model_id": "7f0889fb81ef457db9d183757a9cbe46",
       "version_major": 2,
       "version_minor": 0
      },
      "text/plain": [
       "Downloading data:   0%|          | 0.00/40.7M [00:00<?, ?B/s]"
      ]
     },
     "metadata": {},
     "output_type": "display_data"
    },
    {
     "data": {
      "application/vnd.jupyter.widget-view+json": {
       "model_id": "20fa27b6b68e47f0be3398348d573ffe",
       "version_major": 2,
       "version_minor": 0
      },
      "text/plain": [
       "Downloading data:   0%|          | 0.00/20.4M [00:00<?, ?B/s]"
      ]
     },
     "metadata": {},
     "output_type": "display_data"
    },
    {
     "data": {
      "application/vnd.jupyter.widget-view+json": {
       "model_id": "cd7b4afb3aab478a87e1c48205ab6ead",
       "version_major": 2,
       "version_minor": 0
      },
      "text/plain": [
       "Extracting data files:   0%|          | 0/3 [00:00<?, ?it/s]"
      ]
     },
     "metadata": {},
     "output_type": "display_data"
    },
    {
     "data": {
      "application/vnd.jupyter.widget-view+json": {
       "model_id": "7d1d8c1a81e445c09835e4c4382c2a55",
       "version_major": 2,
       "version_minor": 0
      },
      "text/plain": [
       "Generating train split: 0 examples [00:00, ? examples/s]"
      ]
     },
     "metadata": {},
     "output_type": "display_data"
    },
    {
     "data": {
      "application/vnd.jupyter.widget-view+json": {
       "model_id": "a41cdfa4abcb4e76a2de4a406719aed0",
       "version_major": 2,
       "version_minor": 0
      },
      "text/plain": [
       "Generating validation split: 0 examples [00:00, ? examples/s]"
      ]
     },
     "metadata": {},
     "output_type": "display_data"
    },
    {
     "data": {
      "application/vnd.jupyter.widget-view+json": {
       "model_id": "e80ac815955c46d59937dda59dda59a8",
       "version_major": 2,
       "version_minor": 0
      },
      "text/plain": [
       "Generating test split: 0 examples [00:00, ? examples/s]"
      ]
     },
     "metadata": {},
     "output_type": "display_data"
    }
   ],
   "source": [
    "xray = [load_dataset(\"keremberke/chest-xray-classification\", \"full\", split=\"validation\")]"
   ]
  },
  {
   "cell_type": "code",
   "execution_count": null,
   "id": "47367119-9e4d-4d79-bb77-736b2f31fe8a",
   "metadata": {},
   "outputs": [],
   "source": [
    "for method in image_compression_methods:\n",
    "    xray.append(xray[0].map(method))"
   ]
  },
  {
   "cell_type": "code",
   "execution_count": 6,
   "id": "00e63ecd-c4c8-4074-95a0-a52592fcea42",
   "metadata": {},
   "outputs": [
    {
     "data": {
      "application/vnd.jupyter.widget-view+json": {
       "model_id": "a431dcef7aab49a7a212359664cadb79",
       "version_major": 2,
       "version_minor": 0
      },
      "text/plain": [
       "Downloading (…)lve/main/config.json:   0%|          | 0.00/733 [00:00<?, ?B/s]"
      ]
     },
     "metadata": {},
     "output_type": "display_data"
    },
    {
     "data": {
      "application/vnd.jupyter.widget-view+json": {
       "model_id": "8f1eb58b56954352897ec55debe1c490",
       "version_major": 2,
       "version_minor": 0
      },
      "text/plain": [
       "Downloading model.safetensors:   0%|          | 0.00/343M [00:00<?, ?B/s]"
      ]
     },
     "metadata": {},
     "output_type": "display_data"
    },
    {
     "data": {
      "application/vnd.jupyter.widget-view+json": {
       "model_id": "12888d59d96348bea7f325b534336a39",
       "version_major": 2,
       "version_minor": 0
      },
      "text/plain": [
       "Downloading (…)rocessor_config.json:   0%|          | 0.00/325 [00:00<?, ?B/s]"
      ]
     },
     "metadata": {},
     "output_type": "display_data"
    }
   ],
   "source": [
    "pipe = []\n",
    "for model in models:\n",
    "    pipe.append(\n",
    "        pipeline(\n",
    "            task=\"image-classification\",\n",
    "            model=model,\n",
    "            device=\"cuda:0\"\n",
    "        )\n",
    "    )"
   ]
  },
  {
   "cell_type": "code",
   "execution_count": 7,
   "id": "958b4f9a-98c7-4f3d-a797-ea9c0bb70011",
   "metadata": {},
   "outputs": [],
   "source": [
    "task_evaluator = evaluator(\"image-classification\")"
   ]
  },
  {
   "cell_type": "code",
   "execution_count": 8,
   "id": "f15b035f-8289-4ee2-b455-5bf650a99f68",
   "metadata": {},
   "outputs": [],
   "source": [
    "eval_results = []\n",
    "for i_method,method in enumerate(xray):\n",
    "    eval_results.append([])\n",
    "    for i_model,model in enumerate(pipe):\n",
    "        eval_results[i_method].append(\n",
    "            task_evaluator.compute(\n",
    "                model_or_pipeline=model,\n",
    "                data=method,\n",
    "                label_column='labels',\n",
    "                metric=\"accuracy\",\n",
    "                label_mapping=model.model.config.label2id\n",
    "            )\n",
    "        )"
   ]
  },
  {
   "cell_type": "code",
   "execution_count": 9,
   "id": "13678892-ae6f-4653-9c50-59007aa526d8",
   "metadata": {},
   "outputs": [
    {
     "data": {
      "text/plain": [
       "array([[0.96566524],\n",
       "       [0.96738197],\n",
       "       [0.96995708],\n",
       "       [0.93304721],\n",
       "       [0.96566524]])"
      ]
     },
     "execution_count": 9,
     "metadata": {},
     "output_type": "execute_result"
    }
   ],
   "source": [
    "classification_acc = np.array(\n",
    "    [[rij['accuracy'] for rij in r] for r in eval_results]\n",
    ")\n",
    "classification_acc"
   ]
  },
  {
   "cell_type": "code",
   "execution_count": 10,
   "id": "674e5a3f-05fb-48b9-911b-b41cd8d6126f",
   "metadata": {},
   "outputs": [],
   "source": [
    "baseline_acc = classification_acc[0]\n",
    "classification_acc = classification_acc[1:]"
   ]
  },
  {
   "cell_type": "code",
   "execution_count": 11,
   "id": "5b1049bf-7037-4195-82d7-6a3333ab186e",
   "metadata": {},
   "outputs": [
    {
     "data": {
      "text/plain": [
       "[0.16469623457618024,\n",
       " 0.045985783261802575,\n",
       " 0.03233047210300429,\n",
       " 0.010857920634388412]"
      ]
     },
     "execution_count": 11,
     "metadata": {},
     "output_type": "execute_result"
    }
   ],
   "source": [
    "image_bpp = [np.mean(method['bpp']) for method in xray[1:]]\n",
    "image_bpp"
   ]
  },
  {
   "cell_type": "code",
   "execution_count": 12,
   "id": "9fe8141f-e272-4efd-947d-524608c9826d",
   "metadata": {},
   "outputs": [
    {
     "data": {
      "image/png": "[encoded data removed]",
      "text/plain": [
       "<Figure size 800x600 with 1 Axes>"
      ]
     },
     "metadata": {},
     "output_type": "display_data"
    }
   ],
   "source": [
    "image_compression_names = [\n",
    "    'JPEG',\n",
    "    'WEBP',\n",
    "    'mbt2018',\n",
    "    'HiFiC'\n",
    "]\n",
    "plt.figure(figsize=(4, 3),dpi=200)\n",
    "plt.scatter(image_bpp, classification_acc, c='black', marker='x')\n",
    "plt.annotate(\"No Additional Compression\", (0.15, baseline_acc), textcoords=\"offset points\", xytext=(0,5), ha='center')\n",
    "plt.plot([0,1],[baseline_acc,baseline_acc],'--',c='black')\n",
    "for i, name in enumerate(image_compression_names):\n",
    "    plt.annotate(name, (image_bpp[i], classification_acc[i]), textcoords=\"offset points\", xytext=(0,-17), ha='center')\n",
    "plt.xlabel('Bits Per Pixel (bpp)')\n",
    "plt.ylabel('Classification Accuracy')\n",
    "plt.title('Classification Performance vs Bit Rate')\n",
    "# plt.xlim([0,0.3])\n",
    "# plt.ylim([0.75,1.0])\n",
    "plt.grid(True)\n",
    "plt.show()"
   ]
  }
 ],
 "metadata": {
  "kernelspec": {
   "display_name": "Python 3 (ipykernel)",
   "language": "python",
   "name": "python3"
  },
  "language_info": {
   "codemirror_mode": {
    "name": "ipython",
    "version": 3
   },
   "file_extension": ".py",
   "mimetype": "text/x-python",
   "name": "python",
   "nbconvert_exporter": "python",
   "pygments_lexer": "ipython3",
   "version": "3.10.12"
  }
 },
 "nbformat": 4,
 "nbformat_minor": 5
}
