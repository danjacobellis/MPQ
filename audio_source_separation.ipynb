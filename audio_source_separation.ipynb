{
 "cells": [
  {
   "cell_type": "code",
   "execution_count": 1,
   "id": "11534424-ad20-498f-97db-fcb63c40a06b",
   "metadata": {},
   "outputs": [],
   "source": [
    "from demucs.separate import Separator\n",
    "import torchaudio"
   ]
  },
  {
   "cell_type": "code",
   "execution_count": 2,
   "id": "c42124bc-bdd5-478b-9a7e-39709aba0528",
   "metadata": {},
   "outputs": [],
   "source": [
    "separator = Separator()\n",
    "origin, separated = separator.separate_audio_file(\"mixture.mp3\")"
   ]
  },
  {
   "cell_type": "code",
   "execution_count": 7,
   "id": "d16d442a-fb88-49c2-a21e-8ba00ac45326",
   "metadata": {},
   "outputs": [
    {
     "data": {
      "text/plain": [
       "{'drums': tensor([[ 0.0414,  0.0251, -0.0146,  ...,  0.0045, -0.0034, -0.0028],\n",
       "         [ 0.0175,  0.0193, -0.0014,  ...,  0.0124, -0.0025, -0.0168]]),\n",
       " 'bass': tensor([[ 0.0194,  0.0208,  0.0207,  ..., -0.0763, -0.0694, -0.0754],\n",
       "         [ 0.0261,  0.0276,  0.0275,  ..., -0.0759, -0.0691, -0.0751]]),\n",
       " 'other': tensor([[ 0.0749,  0.0986,  0.1132,  ..., -0.0988, -0.0635,  0.0008],\n",
       "         [ 0.0181,  0.0376,  0.0590,  ..., -0.1312, -0.1150, -0.0641]]),\n",
       " 'vocals': tensor([[ 7.1369e-04,  1.7723e-03,  1.6533e-03,  ...,  2.4705e-04,\n",
       "          -1.4527e-04, -9.5709e-05],\n",
       "         [ 1.1421e-04,  8.2475e-04,  8.8855e-04,  ...,  2.6821e-04,\n",
       "          -1.7763e-05, -6.5102e-04]])}"
      ]
     },
     "execution_count": 7,
     "metadata": {},
     "output_type": "execute_result"
    }
   ],
   "source": [
    "separated"
   ]
  }
 ],
 "metadata": {
  "kernelspec": {
   "display_name": "Python 3 (ipykernel)",
   "language": "python",
   "name": "python3"
  },
  "language_info": {
   "codemirror_mode": {
    "name": "ipython",
    "version": 3
   },
   "file_extension": ".py",
   "mimetype": "text/x-python",
   "name": "python",
   "nbconvert_exporter": "python",
   "pygments_lexer": "ipython3",
   "version": "3.10.12"
  }
 },
 "nbformat": 4,
 "nbformat_minor": 5
}
