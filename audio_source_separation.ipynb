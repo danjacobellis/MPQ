{
 "cells": [
  {
   "cell_type": "code",
   "execution_count": 1,
   "id": "f0b5729c-0e69-4566-b14a-7505f93fac09",
   "metadata": {},
   "outputs": [
    {
     "name": "stderr",
     "output_type": "stream",
     "text": [
      "2023-10-24 18:26:17.698072: I tensorflow/core/util/port.cc:111] oneDNN custom operations are on. You may see slightly different numerical results due to floating-point round-off errors from different computation orders. To turn them off, set the environment variable `TF_ENABLE_ONEDNN_OPTS=0`.\n",
      "2023-10-24 18:26:17.718217: E tensorflow/compiler/xla/stream_executor/cuda/cuda_dnn.cc:9342] Unable to register cuDNN factory: Attempting to register factory for plugin cuDNN when one has already been registered\n",
      "2023-10-24 18:26:17.718232: E tensorflow/compiler/xla/stream_executor/cuda/cuda_fft.cc:609] Unable to register cuFFT factory: Attempting to register factory for plugin cuFFT when one has already been registered\n",
      "2023-10-24 18:26:17.718249: E tensorflow/compiler/xla/stream_executor/cuda/cuda_blas.cc:1518] Unable to register cuBLAS factory: Attempting to register factory for plugin cuBLAS when one has already been registered\n",
      "2023-10-24 18:26:17.722623: I tensorflow/core/platform/cpu_feature_guard.cc:182] This TensorFlow binary is optimized to use available CPU instructions in performance-critical operations.\n",
      "To enable the following instructions: AVX2 AVX_VNNI FMA, in other operations, rebuild TensorFlow with the appropriate compiler flags.\n"
     ]
    }
   ],
   "source": [
    "from datasets import load_dataset\n",
    "from utils import mp3_compress, opus_compress, encodec_compress\n",
    "from utils import hf_audio_encode\n",
    "from demucs.separate import Separator\n",
    "import encodec\n",
    "import numpy as np\n",
    "import matplotlib.pyplot as plt\n",
    "import torch\n",
    "import torchaudio\n",
    "import tempfile\n",
    "import museval"
   ]
  },
  {
   "cell_type": "code",
   "execution_count": 2,
   "id": "73164c1b-3797-4678-b4d2-e17d52ee44db",
   "metadata": {},
   "outputs": [],
   "source": [
    "device = \"cuda\"\n",
    "encodec_model_48_6 = encodec.EncodecModel.encodec_model_48khz()\n",
    "encodec_model_48_6.set_target_bandwidth(6)\n",
    "encodec_model_48_6.to(device);"
   ]
  },
  {
   "cell_type": "code",
   "execution_count": 3,
   "id": "f3cb77b6-a654-45de-8360-126595896dad",
   "metadata": {},
   "outputs": [],
   "source": [
    "def mp3_compress_musdb(sample):\n",
    "    audio = torch.tensor(sample['mixture']['array']).to(torch.float32)\n",
    "    fs = sample['mixture']['sampling_rate']\n",
    "    audio,bps = mp3_compress(audio,fs)\n",
    "    sample['mixture'] = hf_audio_encode(audio,fs)\n",
    "    sample['bps'] = bps\n",
    "    return sample\n",
    "\n",
    "def opus_compress_musdb(sample):\n",
    "    audio = torch.tensor(sample['mixture']['array']).to(torch.float32)\n",
    "    fs = sample['mixture']['sampling_rate']\n",
    "    audio,bps = opus_compress(audio,fs)\n",
    "    sample['mixture'] = hf_audio_encode(audio,fs)\n",
    "    sample['bps'] = bps\n",
    "    return sample\n",
    "\n",
    "def encodec_48_6_compress_musdb(sample):\n",
    "    audio = torch.tensor(sample['mixture']['array']).to(torch.float32)\n",
    "    fs = sample['mixture']['sampling_rate']\n",
    "    audio,bps = encodec_compress(audio,fs,encodec_model_48_6,device)\n",
    "    sample['mixture'] = hf_audio_encode(audio,fs)\n",
    "    sample['bps'] = bps\n",
    "    return sample"
   ]
  },
  {
   "cell_type": "code",
   "execution_count": 4,
   "id": "720e2bc9-3bd6-4059-bcc1-47fd3b90c48f",
   "metadata": {},
   "outputs": [],
   "source": [
    "audio_compression_methods = [\n",
    "    mp3_compress_musdb,\n",
    "    opus_compress_musdb,\n",
    "    encodec_48_6_compress_musdb\n",
    "]\n",
    "musdb = load_dataset(\"danjacobellis/musdb\",split='test')\n",
    "musdb_mix = musdb.remove_columns(['drums', 'bass', 'other', 'vocals'])\n",
    "separator = Separator()\n",
    "fs = musdb[0]['mixture']['sampling_rate']"
   ]
  },
  {
   "cell_type": "code",
   "execution_count": 5,
   "id": "f879ecd2-9b2e-4c42-aa0b-46ef33f53a89",
   "metadata": {},
   "outputs": [],
   "source": [
    "results = []\n",
    "for method in audio_compression_methods:\n",
    "    dataset = musdb_mix.map(method).with_format(\"torch\")\n",
    "    results.append([])\n",
    "    for i_sample, sample in enumerate(musdb.with_format(\"torch\")):\n",
    "        compressed_sample = dataset[i_sample]\n",
    "        ref = [\n",
    "            sample['drums']['array'],\n",
    "            sample['bass']['array'],\n",
    "            sample['other']['array'],\n",
    "            sample['vocals']['array']\n",
    "        ]\n",
    "        ref = torch.cat([r.permute((1,0)).unsqueeze(0) for r in ref])\n",
    "        with tempfile.NamedTemporaryFile('w+b', delete=True) as f:\n",
    "            torchaudio.save(\n",
    "                f.name,\n",
    "                compressed_sample['mixture']['array'],\n",
    "                fs,\n",
    "                format=\"wav\"\n",
    "            )\n",
    "            origin, separated = separator.separate_audio_file(f.name)\n",
    "        sep = [\n",
    "            separated['drums'],\n",
    "            separated['bass'],\n",
    "            separated['other'],\n",
    "            separated['vocals']\n",
    "        ]\n",
    "        sep = torch.cat([s.permute((1,0)).unsqueeze(0) for s in sep])\n",
    "        sdr, isr, sir, sar, perm = museval.metrics.bss_eval(\n",
    "            ref,\n",
    "            sep,\n",
    "            window=2 * 44100,\n",
    "            hop=1.5 * 44100,\n",
    "            compute_permutation=False,\n",
    "            filters_len=512,\n",
    "            framewise_filters=False,\n",
    "            bsseval_sources_version=False,\n",
    "        )\n",
    "        results[-1].append({\n",
    "            \"sdr\": sdr,\n",
    "            \"isr\": isr,\n",
    "            \"sir\": sir,\n",
    "            \"perm\": perm\n",
    "        })"
   ]
  },
  {
   "cell_type": "code",
   "execution_count": 6,
   "id": "5540514b-e7a7-4ec9-b205-c44b54ce32c6",
   "metadata": {},
   "outputs": [],
   "source": [
    "np.save(\"results.npy\",results)"
   ]
  },
  {
   "cell_type": "code",
   "execution_count": 100,
   "id": "aef9e981-00b7-4320-ba4f-4502c9730446",
   "metadata": {},
   "outputs": [],
   "source": [
    "mean_sdr = []\n",
    "for method in results:\n",
    "    sdr_with_nans = torch.cat([torch.tensor(sample['sdr']).flatten() for sample in method])\n",
    "    sdr = []\n",
    "    for s in sdr_with_nans:\n",
    "        if not s.isnan():\n",
    "            sdr.append(s.item())\n",
    "    mean_sdr.append(torch.tensor(sdr).mean().item())"
   ]
  },
  {
   "cell_type": "code",
   "execution_count": 101,
   "id": "4ea193e6-4864-412f-af5d-f349e572d72a",
   "metadata": {},
   "outputs": [
    {
     "data": {
      "text/plain": [
       "[3.4406304359436035, 0.29862770438194275, 2.968838930130005]"
      ]
     },
     "execution_count": 101,
     "metadata": {},
     "output_type": "execute_result"
    }
   ],
   "source": [
    "mean_sdr"
   ]
  },
  {
   "cell_type": "code",
   "execution_count": null,
   "id": "582fcafc-ddcd-48f1-b6f9-147d99295389",
   "metadata": {},
   "outputs": [],
   "source": [
    "baseline = []\n",
    "for i_sample, sample in enumerate(musdb.with_format(\"torch\")):\n",
    "    ref = [\n",
    "        sample['drums']['array'],\n",
    "        sample['bass']['array'],\n",
    "        sample['other']['array'],\n",
    "        sample['vocals']['array']\n",
    "    ]\n",
    "    ref = torch.cat([r.permute((1,0)).unsqueeze(0) for r in ref])\n",
    "    with tempfile.NamedTemporaryFile('w+b', delete=True) as f:\n",
    "        torchaudio.save(\n",
    "            f.name,\n",
    "            sample['mixture']['array'],\n",
    "            fs,\n",
    "            format=\"wav\"\n",
    "        )\n",
    "        origin, separated = separator.separate_audio_file(f.name)\n",
    "    sep = [\n",
    "        separated['drums'],\n",
    "        separated['bass'],\n",
    "        separated['other'],\n",
    "        separated['vocals']\n",
    "    ]\n",
    "    sep = torch.cat([s.permute((1,0)).unsqueeze(0) for s in sep])\n",
    "    sdr, isr, sir, sar, perm = museval.metrics.bss_eval(\n",
    "        ref,\n",
    "        sep,\n",
    "        window=2 * 44100,\n",
    "        hop=1.5 * 44100,\n",
    "        compute_permutation=False,\n",
    "        filters_len=512,\n",
    "        framewise_filters=False,\n",
    "        bsseval_sources_version=False,\n",
    "    )\n",
    "    baseline.append({\n",
    "        \"sdr\": sdr,\n",
    "        \"isr\": isr,\n",
    "        \"sir\": sir,\n",
    "        \"perm\": perm\n",
    "    })"
   ]
  },
  {
   "cell_type": "code",
   "execution_count": 105,
   "id": "842ecb73-f83a-450e-ab10-80b40dafd342",
   "metadata": {},
   "outputs": [],
   "source": [
    "sdr_with_nans = torch.cat([torch.tensor(sample['sdr']).flatten() for sample in baseline])\n",
    "sdr = []\n",
    "for s in sdr_with_nans:\n",
    "    if not s.isnan():\n",
    "        sdr.append(s.item())\n",
    "    baseline_sdr = torch.tensor(sdr).mean().item()"
   ]
  },
  {
   "cell_type": "code",
   "execution_count": 107,
   "id": "bf162586-9657-41b9-81fc-7f8cc9355dfe",
   "metadata": {},
   "outputs": [
    {
     "data": {
      "text/plain": [
       "6.286550521850586"
      ]
     },
     "execution_count": 107,
     "metadata": {},
     "output_type": "execute_result"
    }
   ],
   "source": [
    "baseline_sdr"
   ]
  },
  {
   "cell_type": "code",
   "execution_count": 116,
   "id": "73cd0845-e1cb-4cca-aca3-5f9e256f2f59",
   "metadata": {},
   "outputs": [],
   "source": [
    "audio_bps = []\n",
    "for method in audio_compression_methods:\n",
    "    dataset = musdb_mix.map(method).with_format(\"torch\")\n",
    "    audio_bps.append(dataset['bps'].mean())"
   ]
  },
  {
   "cell_type": "code",
   "execution_count": 123,
   "id": "d19ace92-aca7-4e1b-905c-7495feb0d98a",
   "metadata": {},
   "outputs": [
    {
     "data": {
      "image/png": "[encoded data removed]",
      "text/plain": [
       "<Figure size 800x600 with 1 Axes>"
      ]
     },
     "metadata": {},
     "output_type": "display_data"
    }
   ],
   "source": [
    "audio_compression_names = [\n",
    "    'MP3',\n",
    "    'Opus',\n",
    "    'EnCodec',\n",
    "]\n",
    "plt.figure(figsize=(4, 3),dpi=200)\n",
    "plt.scatter(audio_bps, mean_sdr, c='black', marker='x')\n",
    "plt.annotate(\"No Additional Compression\", (0.5, 1-baseline_sdr), textcoords=\"offset points\", xytext=(0,5), ha='center')\n",
    "plt.plot([0,1],[baseline_sdr,baseline_sdr],'--',c='black')\n",
    "for i, name in enumerate(audio_compression_names):\n",
    "    plt.annotate(name, (audio_bps[i], mean_sdr[i]), textcoords=\"offset points\", xytext=(0,-14), ha='center')\n",
    "plt.xlabel('Bits Per Sample (bps)')\n",
    "plt.ylabel('Signal to Distortion Ratio')\n",
    "plt.title('MUSDB18 Performance vs Bit Rate')\n",
    "plt.xlim([0,0.5])\n",
    "plt.ylim([-2,8])\n",
    "plt.grid(True)\n",
    "plt.show()"
   ]
  },
  {
   "cell_type": "markdown",
   "id": "3bf9f607-18c2-400e-9032-88be0245465d",
   "metadata": {},
   "source": [
    "Plot separated SDR vs visqol(original mixture, compressed mixture)"
   ]
  }
 ],
 "metadata": {
  "kernelspec": {
   "display_name": "Python 3 (ipykernel)",
   "language": "python",
   "name": "python3"
  },
  "language_info": {
   "codemirror_mode": {
    "name": "ipython",
    "version": 3
   },
   "file_extension": ".py",
   "mimetype": "text/x-python",
   "name": "python",
   "nbconvert_exporter": "python",
   "pygments_lexer": "ipython3",
   "version": "3.10.12"
  }
 },
 "nbformat": 4,
 "nbformat_minor": 5
}
