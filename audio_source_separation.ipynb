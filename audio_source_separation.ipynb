{
 "cells": [
  {
   "cell_type": "code",
   "execution_count": 1,
   "id": "f0b5729c-0e69-4566-b14a-7505f93fac09",
   "metadata": {},
   "outputs": [
    {
     "name": "stderr",
     "output_type": "stream",
     "text": [
      "2023-10-24 17:59:08.658248: I tensorflow/core/util/port.cc:111] oneDNN custom operations are on. You may see slightly different numerical results due to floating-point round-off errors from different computation orders. To turn them off, set the environment variable `TF_ENABLE_ONEDNN_OPTS=0`.\n",
      "2023-10-24 17:59:08.677114: E tensorflow/compiler/xla/stream_executor/cuda/cuda_dnn.cc:9342] Unable to register cuDNN factory: Attempting to register factory for plugin cuDNN when one has already been registered\n",
      "2023-10-24 17:59:08.677129: E tensorflow/compiler/xla/stream_executor/cuda/cuda_fft.cc:609] Unable to register cuFFT factory: Attempting to register factory for plugin cuFFT when one has already been registered\n",
      "2023-10-24 17:59:08.677145: E tensorflow/compiler/xla/stream_executor/cuda/cuda_blas.cc:1518] Unable to register cuBLAS factory: Attempting to register factory for plugin cuBLAS when one has already been registered\n",
      "2023-10-24 17:59:08.681304: I tensorflow/core/platform/cpu_feature_guard.cc:182] This TensorFlow binary is optimized to use available CPU instructions in performance-critical operations.\n",
      "To enable the following instructions: AVX2 AVX_VNNI FMA, in other operations, rebuild TensorFlow with the appropriate compiler flags.\n"
     ]
    }
   ],
   "source": [
    "from datasets import load_dataset\n",
    "from utils import mp3_compress, opus_compress, encodec_compress\n",
    "from utils import hf_audio_encode\n",
    "from demucs.separate import Separator\n",
    "import encodec\n",
    "import numpy as np\n",
    "import matplotlib.pyplot as plt\n",
    "import torch\n",
    "import torchaudio\n",
    "import tempfile\n",
    "import museval"
   ]
  },
  {
   "cell_type": "code",
   "execution_count": 2,
   "id": "73164c1b-3797-4678-b4d2-e17d52ee44db",
   "metadata": {},
   "outputs": [],
   "source": [
    "device = \"cuda\"\n",
    "encodec_model_48_6 = encodec.EncodecModel.encodec_model_48khz()\n",
    "encodec_model_48_6.set_target_bandwidth(6)\n",
    "encodec_model_48_6.to(device);"
   ]
  },
  {
   "cell_type": "code",
   "execution_count": 3,
   "id": "f3cb77b6-a654-45de-8360-126595896dad",
   "metadata": {},
   "outputs": [],
   "source": [
    "def mp3_compress_musdb(sample):\n",
    "    audio = torch.tensor(sample['mixture']['array']).to(torch.float32)\n",
    "    fs = sample['mixture']['sampling_rate']\n",
    "    audio,bps = mp3_compress(audio,fs)\n",
    "    sample['mixture'] = hf_audio_encode(audio,fs)\n",
    "    sample['bps'] = bps\n",
    "    return sample\n",
    "\n",
    "def opus_compress_musdb(sample):\n",
    "    audio = torch.tensor(sample['mixture']['array']).to(torch.float32)\n",
    "    fs = sample['mixture']['sampling_rate']\n",
    "    audio,bps = opus_compress(audio,fs)\n",
    "    sample['mixture'] = hf_audio_encode(audio,fs)\n",
    "    sample['bps'] = bps\n",
    "    return sample\n",
    "\n",
    "def encodec_48_6_compress_musdb(sample):\n",
    "    audio = torch.tensor(sample['mixture']['array']).to(torch.float32)\n",
    "    fs = sample['mixture']['sampling_rate']\n",
    "    audio,bps = encodec_compress(audio,fs,encodec_model_48_6,device)\n",
    "    sample['mixture'] = hf_audio_encode(audio,fs)\n",
    "    sample['bps'] = bps\n",
    "    return sample"
   ]
  },
  {
   "cell_type": "code",
   "execution_count": 4,
   "id": "720e2bc9-3bd6-4059-bcc1-47fd3b90c48f",
   "metadata": {},
   "outputs": [],
   "source": [
    "audio_compression_methods = [\n",
    "    mp3_compress_musdb,\n",
    "    opus_compress_musdb,\n",
    "    encodec_48_6_compress_musdb\n",
    "]\n",
    "models = []"
   ]
  },
  {
   "cell_type": "code",
   "execution_count": 5,
   "id": "53202d6c-1829-4170-8461-487458bef810",
   "metadata": {},
   "outputs": [],
   "source": [
    "musdb = load_dataset(\"danjacobellis/musdb\",split='test')\n",
    "musdb_mix = musdb.remove_columns(['drums', 'bass', 'other', 'vocals'])"
   ]
  },
  {
   "cell_type": "code",
   "execution_count": 7,
   "id": "f879ecd2-9b2e-4c42-aa0b-46ef33f53a89",
   "metadata": {},
   "outputs": [],
   "source": [
    "musdb_compressed = []\n",
    "for method in audio_compression_methods:\n",
    "    musdb_compressed.append(musdb_mix.map(method))"
   ]
  },
  {
   "cell_type": "code",
   "execution_count": 9,
   "id": "57764ae2-010b-40d5-89ae-69f0d04d7c98",
   "metadata": {},
   "outputs": [],
   "source": [
    "musdb = musdb.with_format(\"torch\")"
   ]
  },
  {
   "cell_type": "code",
   "execution_count": 13,
   "id": "b841a8f2-db7c-49bd-8b86-7340f09a951a",
   "metadata": {},
   "outputs": [],
   "source": [
    "separator = Separator()"
   ]
  },
  {
   "cell_type": "code",
   "execution_count": 36,
   "id": "d8a251fb-1dee-4eb1-800a-95c79a490356",
   "metadata": {},
   "outputs": [],
   "source": [
    "sample = musdb[2]\n",
    "\n",
    "ref = [\n",
    "    sample['drums']['array'],\n",
    "    sample['bass']['array'],\n",
    "    sample['other']['array'],\n",
    "    sample['vocals']['array']\n",
    "]\n",
    "ref = torch.cat([r.permute((1,0)).unsqueeze(0) for r in ref])\n",
    "\n",
    "with tempfile.NamedTemporaryFile('w+b', delete=True) as f:\n",
    "    torchaudio.save(\n",
    "        f.name,\n",
    "        sample['mixture']['array'],\n",
    "        sample['mixture']['sampling_rate'],\n",
    "        format=\"wav\"\n",
    "    )\n",
    "    origin, separated = separator.separate_audio_file(f.name)\n",
    "    sep = [\n",
    "        separated['drums'],\n",
    "        separated['bass'],\n",
    "        separated['other'],\n",
    "        separated['vocals']\n",
    "    ]\n",
    "    sep = torch.cat([s.permute((1,0)).unsqueeze(0) for s in sep])"
   ]
  },
  {
   "cell_type": "code",
   "execution_count": 39,
   "id": "408c0bf7-186d-4a5a-aba4-a382f70e9f30",
   "metadata": {},
   "outputs": [],
   "source": [
    "sdr, isr, sir, sar, perm = museval.metrics.bss_eval(\n",
    "    ref,\n",
    "    sep,\n",
    "    window=2 * 44100,\n",
    "    hop=1.5 * 44100,\n",
    "    compute_permutation=False,\n",
    "    filters_len=512,\n",
    "    framewise_filters=False,\n",
    "    bsseval_sources_version=False,\n",
    ")"
   ]
  },
  {
   "cell_type": "code",
   "execution_count": 40,
   "id": "9821a55c-29ef-4797-b45d-f5be0d81dac9",
   "metadata": {},
   "outputs": [
    {
     "data": {
      "text/plain": [
       "7.746611040333569"
      ]
     },
     "execution_count": 40,
     "metadata": {},
     "output_type": "execute_result"
    }
   ],
   "source": [
    "np.mean(sdr)"
   ]
  }
 ],
 "metadata": {
  "kernelspec": {
   "display_name": "Python 3 (ipykernel)",
   "language": "python",
   "name": "python3"
  },
  "language_info": {
   "codemirror_mode": {
    "name": "ipython",
    "version": 3
   },
   "file_extension": ".py",
   "mimetype": "text/x-python",
   "name": "python",
   "nbconvert_exporter": "python",
   "pygments_lexer": "ipython3",
   "version": "3.10.12"
  }
 },
 "nbformat": 4,
 "nbformat_minor": 5
}
