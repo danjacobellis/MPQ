{
 "cells": [
  {
   "cell_type": "code",
   "execution_count": null,
   "id": "bb23d64e-ee75-4d83-ab23-34b301defbab",
   "metadata": {},
   "outputs": [],
   "source": [
    "from datasets import load_dataset\n",
    "from utils import jpeg_compress, webp_compress, pad, crop, nn_compress, hific_lo_compress\n",
    "import compressai\n",
    "import evaluate\n",
    "from transformers import AutoFeatureExtractor, SegformerForSemanticSegmentation\n",
    "from piq import LPIPS\n",
    "from torch.nn import MSELoss"
   ]
  },
  {
   "cell_type": "code",
   "execution_count": null,
   "id": "b414526d-18c4-417d-85b0-ac78acbe2de1",
   "metadata": {},
   "outputs": [],
   "source": [
    "def jpeg_compress_ade(sample):\n",
    "    img,bpp = jpeg_compress(sample['image'])\n",
    "    sample['image'] = img\n",
    "    sample['bpp' ] = bpp\n",
    "    return sample\n",
    "    \n",
    "def webp_compress_ade(sample):\n",
    "    img,bpp = webp_compress(sample['image'])\n",
    "    sample['image'] = img\n",
    "    sample['bpp' ] = bpp\n",
    "    return sample\n",
    "\n",
    "net_mbt2018 = compressai.zoo.mbt2018(quality=1, pretrained=True).eval().to(\"cpu\")\n",
    "def mbt2018_compress_ade(sample):\n",
    "    img,bpp = nn_compress(sample['image'],net_mbt2018,\"cpu\")\n",
    "    sample['image'] = img\n",
    "    sample['bpp'] = bpp\n",
    "    return sample\n",
    "\n",
    "def hific_lo_compress_ade(sample):\n",
    "    img,bpp = hific_lo_compress(sample['image'])\n",
    "    sample['image'] = img\n",
    "    sample['bpp' ] = bpp\n",
    "    return sample"
   ]
  },
  {
   "cell_type": "code",
   "execution_count": null,
   "id": "06f5a4e9-1995-479b-9934-b1c3f07d5b9d",
   "metadata": {},
   "outputs": [],
   "source": [
    "image_compression_methods = [\n",
    "    jpeg_compress_ade,\n",
    "    webp_compress_ade,\n",
    "    mbt2018_compress_ade,\n",
    "    hific_lo_compress_ade\n",
    "]"
   ]
  },
  {
   "cell_type": "code",
   "execution_count": null,
   "id": "3f72505a-fefb-45f2-8a4b-596ac2005bb9",
   "metadata": {},
   "outputs": [],
   "source": [
    "ade20k = [load_dataset(\"scene_parse_150\",split='validation')]"
   ]
  },
  {
   "cell_type": "code",
   "execution_count": null,
   "id": "f281a14a-8b52-4a0b-bea1-08f88a1f4041",
   "metadata": {},
   "outputs": [],
   "source": [
    "for method in image_compression_methods:\n",
    "    ade20k.append(ade20k[0].map(method))"
   ]
  },
  {
   "cell_type": "code",
   "execution_count": null,
   "id": "5b1049bf-7037-4195-82d7-6a3333ab186e",
   "metadata": {},
   "outputs": [],
   "source": [
    "image_bpp = [np.mean(method['bpp']) for method in ade20k[1:]]\n",
    "image_bpp"
   ]
  },
  {
   "cell_type": "code",
   "execution_count": null,
   "id": "483b91c3-aa90-4e8f-91f9-c214549dd484",
   "metadata": {},
   "outputs": [],
   "source": [
    "lpips_metric = LPIPS()\n",
    "mse_metric = MSELoss()"
   ]
  },
  {
   "cell_type": "code",
   "execution_count": null,
   "id": "96e401d6-89bb-44c1-901e-6fb1a99406d9",
   "metadata": {},
   "outputs": [],
   "source": [
    "%%time\n",
    "lpips = []\n",
    "mse = []\n",
    "for method in ade20k:\n",
    "    method = method.with_format(\"torch\")\n",
    "    lpips.append([])\n",
    "    mse.append([])\n",
    "    for i_sample,sample in enumerate(beans[0].with_format(\"torch\")):\n",
    "        compressed_sample = method[i_sample]\n",
    "        reference = sample['image'].to(torch.float32).permute(2,0,1).unsqueeze(0)\n",
    "        distorted = compressed_sample['image'].to(torch.float32).permute(2,0,1).unsqueeze(0)\n",
    "        lpips[-1].append(lpips_metric(reference,distorted).detach().item())\n",
    "        mse[-1].append(mse_metric(reference,distorted).detach().item())"
   ]
  },
  {
   "cell_type": "code",
   "execution_count": null,
   "id": "9ee873ee-e4df-4743-8d9a-806eb0b57cd2",
   "metadata": {},
   "outputs": [],
   "source": [
    "PSNR = [[20*np.log10(255)-10*np.log10(d) for d in m] for m in mse]\n",
    "PSNR = [np.mean(d) for d in PSNR]\n",
    "PSNR"
   ]
  },
  {
   "cell_type": "code",
   "execution_count": null,
   "id": "34678718-b5ce-4686-ba14-082e36daef6d",
   "metadata": {},
   "outputs": [],
   "source": [
    "neg_log_lpips = [[-10*np.log10(d) for d in m] for m in lpips]\n",
    "neg_log_lpips = [np.mean(d) for d in neg_log_lpips]\n",
    "neg_log_lpips"
   ]
  }
 ],
 "metadata": {
  "kernelspec": {
   "display_name": "Python 3 (ipykernel)",
   "language": "python",
   "name": "python3"
  },
  "language_info": {
   "codemirror_mode": {
    "name": "ipython",
    "version": 3
   },
   "file_extension": ".py",
   "mimetype": "text/x-python",
   "name": "python",
   "nbconvert_exporter": "python",
   "pygments_lexer": "ipython3",
   "version": "3.10.12"
  }
 },
 "nbformat": 4,
 "nbformat_minor": 5
}
