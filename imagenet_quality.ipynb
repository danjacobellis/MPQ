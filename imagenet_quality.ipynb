{
 "cells": [
  {
   "cell_type": "code",
   "execution_count": null,
   "id": "1607de3b-cd13-4ca2-ad44-2262687b966e",
   "metadata": {},
   "outputs": [],
   "source": [
    "from datasets import load_dataset\n",
    "from utils import jpeg_compress, webp_compress, pad, crop, nn_compress, hific_lo_compress\n",
    "import compressai\n",
    "from evaluate import evaluator\n",
    "from transformers import pipeline\n",
    "import torch\n",
    "import numpy as np\n",
    "import matplotlib.pyplot as plt\n",
    "from piq import LPIPS\n",
    "from torch.nn import MSELoss"
   ]
  },
  {
   "cell_type": "code",
   "execution_count": null,
   "id": "97e6e0bc-3fbc-4c9d-bc40-aa8538061773",
   "metadata": {},
   "outputs": [],
   "source": [
    "def jpeg_compress_in(sample):\n",
    "    img,bpp = jpeg_compress(sample['image'])\n",
    "    sample['image'] = img\n",
    "    sample['bpp' ] = bpp\n",
    "    return sample\n",
    "    \n",
    "def webp_compress_in(sample):\n",
    "    img,bpp = webp_compress(sample['image'])\n",
    "    sample['image'] = img\n",
    "    sample['bpp' ] = bpp\n",
    "    return sample\n",
    "\n",
    "net_mbt2018 = compressai.zoo.mbt2018(quality=1, pretrained=True).eval().to(\"cpu\")\n",
    "def mbt2018_compress_in(sample):\n",
    "    img,bpp = nn_compress(sample['image'],net_mbt2018,\"cpu\")\n",
    "    sample['image'] = img\n",
    "    sample['bpp'] = bpp\n",
    "    return sample\n",
    "\n",
    "def hific_lo_compress_in(sample):\n",
    "    img,bpp = hific_lo_compress(sample['image'])\n",
    "    sample['image'] = img\n",
    "    sample['bpp' ] = bpp\n",
    "    return sample"
   ]
  },
  {
   "cell_type": "code",
   "execution_count": null,
   "id": "87b13540-6ab3-4f4f-9d97-4cfebb87a34a",
   "metadata": {},
   "outputs": [],
   "source": [
    "image_compression_methods = [\n",
    "    jpeg_compress_in,\n",
    "    webp_compress_in,\n",
    "    mbt2018_compress_in,\n",
    "    hific_lo_compress_in\n",
    "]"
   ]
  },
  {
   "cell_type": "code",
   "execution_count": null,
   "id": "5f76036d-fe12-41dc-94ec-79f4cbd67624",
   "metadata": {},
   "outputs": [],
   "source": [
    "imagenet = [load_dataset(\"imagenet-1k\", split=\"validation[:1000]\")]"
   ]
  },
  {
   "cell_type": "code",
   "execution_count": null,
   "id": "47367119-9e4d-4d79-bb77-736b2f31fe8a",
   "metadata": {},
   "outputs": [],
   "source": [
    "for method in image_compression_methods:\n",
    "    imagenet.append(imagenet[0].map(method))"
   ]
  },
  {
   "cell_type": "code",
   "execution_count": null,
   "id": "5b1049bf-7037-4195-82d7-6a3333ab186e",
   "metadata": {},
   "outputs": [],
   "source": [
    "image_bpp = [np.mean(method['bpp']) for method in imagenet[1:]]\n",
    "image_bpp"
   ]
  },
  {
   "cell_type": "code",
   "execution_count": null,
   "id": "2970ff85-ed5c-42c4-b358-dd8cc81a2513",
   "metadata": {},
   "outputs": [],
   "source": [
    "lpips_metric = LPIPS()\n",
    "mse_metric = MSELoss()"
   ]
  },
  {
   "cell_type": "code",
   "execution_count": null,
   "id": "ead76587-ac87-4df4-84b3-f6e640c7e1d7",
   "metadata": {},
   "outputs": [],
   "source": [
    "%%time\n",
    "lpips = []\n",
    "mse = []\n",
    "for method in imagenet:\n",
    "    method = method.with_format(\"torch\")\n",
    "    lpips.append([])\n",
    "    mse.append([])\n",
    "    for i_sample,sample in enumerate(beans[0].with_format(\"torch\")):\n",
    "        compressed_sample = method[i_sample]\n",
    "        reference = sample['image'].to(torch.float32).permute(2,0,1).unsqueeze(0)\n",
    "        distorted = compressed_sample['image'].to(torch.float32).permute(2,0,1).unsqueeze(0)\n",
    "        lpips[-1].append(lpips_metric(reference,distorted).detach().item())\n",
    "        mse[-1].append(mse_metric(reference,distorted).detach().item())"
   ]
  },
  {
   "cell_type": "code",
   "execution_count": null,
   "id": "93624478-7dfc-40c3-a02f-94f517a6ffe9",
   "metadata": {},
   "outputs": [],
   "source": [
    "PSNR = [[20*np.log10(255)-10*np.log10(d) for d in m] for m in mse]\n",
    "PSNR = [np.mean(d) for d in PSNR]\n",
    "PSNR"
   ]
  },
  {
   "cell_type": "code",
   "execution_count": null,
   "id": "7d69e202-1792-4fca-9c2f-db16f6e09e2e",
   "metadata": {},
   "outputs": [],
   "source": [
    "neg_log_lpips = [[-10*np.log10(d) for d in m] for m in lpips]\n",
    "neg_log_lpips = [np.mean(d) for d in neg_log_lpips]\n",
    "neg_log_lpips"
   ]
  }
 ],
 "metadata": {
  "kernelspec": {
   "display_name": "Python 3 (ipykernel)",
   "language": "python",
   "name": "python3"
  },
  "language_info": {
   "codemirror_mode": {
    "name": "ipython",
    "version": 3
   },
   "file_extension": ".py",
   "mimetype": "text/x-python",
   "name": "python",
   "nbconvert_exporter": "python",
   "pygments_lexer": "ipython3",
   "version": "3.10.12"
  }
 },
 "nbformat": 4,
 "nbformat_minor": 5
}
