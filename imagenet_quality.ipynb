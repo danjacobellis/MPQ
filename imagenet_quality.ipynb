{
 "cells": [
  {
   "cell_type": "code",
   "execution_count": 57,
   "id": "1607de3b-cd13-4ca2-ad44-2262687b966e",
   "metadata": {},
   "outputs": [],
   "source": [
    "from datasets import load_dataset\n",
    "from utils import jpeg_compress, webp_compress, pad, crop, nn_compress, hific_lo_compress\n",
    "import compressai\n",
    "from evaluate import evaluator\n",
    "from transformers import pipeline\n",
    "import torch\n",
    "import numpy as np\n",
    "import matplotlib.pyplot as plt\n",
    "from piq import LPIPS\n",
    "from torch.nn import MSELoss\n",
    "from torchvision import transforms"
   ]
  },
  {
   "cell_type": "code",
   "execution_count": 2,
   "id": "97e6e0bc-3fbc-4c9d-bc40-aa8538061773",
   "metadata": {},
   "outputs": [],
   "source": [
    "def jpeg_compress_in(sample):\n",
    "    img,bpp = jpeg_compress(sample['image'])\n",
    "    sample['image'] = img\n",
    "    sample['bpp' ] = bpp\n",
    "    return sample\n",
    "    \n",
    "def webp_compress_in(sample):\n",
    "    img,bpp = webp_compress(sample['image'])\n",
    "    sample['image'] = img\n",
    "    sample['bpp' ] = bpp\n",
    "    return sample\n",
    "\n",
    "net_mbt2018 = compressai.zoo.mbt2018(quality=1, pretrained=True).eval().to(\"cpu\")\n",
    "def mbt2018_compress_in(sample):\n",
    "    img,bpp = nn_compress(sample['image'],net_mbt2018,\"cpu\")\n",
    "    sample['image'] = img\n",
    "    sample['bpp'] = bpp\n",
    "    return sample\n",
    "\n",
    "def hific_lo_compress_in(sample):\n",
    "    img,bpp = hific_lo_compress(sample['image'])\n",
    "    sample['image'] = img\n",
    "    sample['bpp' ] = bpp\n",
    "    return sample"
   ]
  },
  {
   "cell_type": "code",
   "execution_count": 3,
   "id": "87b13540-6ab3-4f4f-9d97-4cfebb87a34a",
   "metadata": {},
   "outputs": [],
   "source": [
    "image_compression_methods = [\n",
    "    jpeg_compress_in,\n",
    "    webp_compress_in,\n",
    "    mbt2018_compress_in,\n",
    "    hific_lo_compress_in\n",
    "]"
   ]
  },
  {
   "cell_type": "code",
   "execution_count": 4,
   "id": "5f76036d-fe12-41dc-94ec-79f4cbd67624",
   "metadata": {},
   "outputs": [],
   "source": [
    "imagenet = [load_dataset(\"imagenet-1k\", split=\"validation[:1000]\")]"
   ]
  },
  {
   "cell_type": "code",
   "execution_count": 5,
   "id": "47367119-9e4d-4d79-bb77-736b2f31fe8a",
   "metadata": {},
   "outputs": [],
   "source": [
    "for method in image_compression_methods:\n",
    "    imagenet.append(imagenet[0].map(method))"
   ]
  },
  {
   "cell_type": "code",
   "execution_count": 6,
   "id": "5b1049bf-7037-4195-82d7-6a3333ab186e",
   "metadata": {},
   "outputs": [
    {
     "data": {
      "text/plain": [
       "[0.26474601405625764,\n",
       " 0.14787044451833736,\n",
       " 0.14990276963116184,\n",
       " 0.02639249681257391]"
      ]
     },
     "execution_count": 6,
     "metadata": {},
     "output_type": "execute_result"
    }
   ],
   "source": [
    "image_bpp = [np.mean(method['bpp']) for method in imagenet[1:]]\n",
    "image_bpp"
   ]
  },
  {
   "cell_type": "code",
   "execution_count": 7,
   "id": "2970ff85-ed5c-42c4-b358-dd8cc81a2513",
   "metadata": {},
   "outputs": [
    {
     "name": "stderr",
     "output_type": "stream",
     "text": [
      "/home/dan/.local/lib/python3.10/site-packages/torchvision/models/_utils.py:208: UserWarning: The parameter 'pretrained' is deprecated since 0.13 and may be removed in the future, please use 'weights' instead.\n",
      "  warnings.warn(\n",
      "/home/dan/.local/lib/python3.10/site-packages/torchvision/models/_utils.py:223: UserWarning: Arguments other than a weight enum or `None` for 'weights' are deprecated since 0.13 and may be removed in the future. The current behavior is equivalent to passing `weights=VGG16_Weights.IMAGENET1K_V1`. You can also use `weights=VGG16_Weights.DEFAULT` to get the most up-to-date weights.\n",
      "  warnings.warn(msg)\n"
     ]
    }
   ],
   "source": [
    "lpips_metric = LPIPS()\n",
    "mse_metric = MSELoss()"
   ]
  },
  {
   "cell_type": "code",
   "execution_count": 61,
   "id": "ead76587-ac87-4df4-84b3-f6e640c7e1d7",
   "metadata": {},
   "outputs": [],
   "source": [
    "lpips = []\n",
    "mse = []\n",
    "for method in imagenet:\n",
    "    method = method.with_format(\"torch\")\n",
    "    lpips.append([])\n",
    "    mse.append([])\n",
    "    for i_sample,sample in enumerate(imagenet[0].with_format(\"torch\")):\n",
    "        compressed_sample = method[i_sample]\n",
    "        reference = sample['image'].to(torch.float32)\n",
    "        if (reference.shape[-1] != 3):        \n",
    "            reference = reference.unsqueeze(2)\n",
    "        reference = reference.permute(2,0,1).unsqueeze(0)\n",
    "        distorted = compressed_sample['image'].to(torch.float32)\n",
    "        if (distorted.shape[-1] != 3):        \n",
    "            distorted = distorted.unsqueeze(2)\n",
    "        distorted = distorted.permute(2,0,1).unsqueeze(0)\n",
    "\n",
    "        if reference.shape[1] != distorted.shape[1]:\n",
    "            distorted = transforms.functional.rgb_to_grayscale(distorted)\n",
    "        \n",
    "        lpips[-1].append(lpips_metric(reference,distorted).detach().item())\n",
    "        mse[-1].append(mse_metric(reference,distorted).detach().item())"
   ]
  },
  {
   "cell_type": "code",
   "execution_count": 62,
   "id": "93624478-7dfc-40c3-a02f-94f517a6ffe9",
   "metadata": {},
   "outputs": [
    {
     "name": "stderr",
     "output_type": "stream",
     "text": [
      "/tmp/ipykernel_1308489/986530016.py:1: RuntimeWarning: divide by zero encountered in log10\n",
      "  PSNR = [[20*np.log10(255)-10*np.log10(d) for d in m] for m in mse]\n"
     ]
    },
    {
     "data": {
      "text/plain": [
       "[inf,\n",
       " 23.182460226047187,\n",
       " 24.766241227347265,\n",
       " 26.674174333189445,\n",
       " 26.257512162905442]"
      ]
     },
     "execution_count": 62,
     "metadata": {},
     "output_type": "execute_result"
    }
   ],
   "source": [
    "PSNR = [[20*np.log10(255)-10*np.log10(d) for d in m] for m in mse]\n",
    "PSNR = [np.mean(d) for d in PSNR]\n",
    "PSNR"
   ]
  },
  {
   "cell_type": "code",
   "execution_count": 63,
   "id": "7d69e202-1792-4fca-9c2f-db16f6e09e2e",
   "metadata": {},
   "outputs": [
    {
     "name": "stderr",
     "output_type": "stream",
     "text": [
      "/tmp/ipykernel_1308489/1126017225.py:1: RuntimeWarning: divide by zero encountered in log10\n",
      "  neg_log_lpips = [[-10*np.log10(d) for d in m] for m in lpips]\n"
     ]
    },
    {
     "data": {
      "text/plain": [
       "[inf,\n",
       " 6.109442391611871,\n",
       " 7.017269687247636,\n",
       " 7.945727968631091,\n",
       " 10.834666055816148]"
      ]
     },
     "execution_count": 63,
     "metadata": {},
     "output_type": "execute_result"
    }
   ],
   "source": [
    "neg_log_lpips = [[-10*np.log10(d) for d in m] for m in lpips]\n",
    "neg_log_lpips = [np.mean(d) for d in neg_log_lpips]\n",
    "neg_log_lpips"
   ]
  }
 ],
 "metadata": {
  "kernelspec": {
   "display_name": "Python 3 (ipykernel)",
   "language": "python",
   "name": "python3"
  },
  "language_info": {
   "codemirror_mode": {
    "name": "ipython",
    "version": 3
   },
   "file_extension": ".py",
   "mimetype": "text/x-python",
   "name": "python",
   "nbconvert_exporter": "python",
   "pygments_lexer": "ipython3",
   "version": "3.10.12"
  }
 },
 "nbformat": 4,
 "nbformat_minor": 5
}
