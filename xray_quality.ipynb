{
 "cells": [
  {
   "cell_type": "code",
   "execution_count": 1,
   "id": "1607de3b-cd13-4ca2-ad44-2262687b966e",
   "metadata": {},
   "outputs": [
    {
     "name": "stderr",
     "output_type": "stream",
     "text": [
      "2023-10-26 15:33:14.584539: I tensorflow/core/util/port.cc:111] oneDNN custom operations are on. You may see slightly different numerical results due to floating-point round-off errors from different computation orders. To turn them off, set the environment variable `TF_ENABLE_ONEDNN_OPTS=0`.\n",
      "2023-10-26 15:33:14.603349: E tensorflow/compiler/xla/stream_executor/cuda/cuda_dnn.cc:9342] Unable to register cuDNN factory: Attempting to register factory for plugin cuDNN when one has already been registered\n",
      "2023-10-26 15:33:14.603364: E tensorflow/compiler/xla/stream_executor/cuda/cuda_fft.cc:609] Unable to register cuFFT factory: Attempting to register factory for plugin cuFFT when one has already been registered\n",
      "2023-10-26 15:33:14.603380: E tensorflow/compiler/xla/stream_executor/cuda/cuda_blas.cc:1518] Unable to register cuBLAS factory: Attempting to register factory for plugin cuBLAS when one has already been registered\n",
      "2023-10-26 15:33:14.607127: I tensorflow/core/platform/cpu_feature_guard.cc:182] This TensorFlow binary is optimized to use available CPU instructions in performance-critical operations.\n",
      "To enable the following instructions: AVX2 AVX_VNNI FMA, in other operations, rebuild TensorFlow with the appropriate compiler flags.\n"
     ]
    }
   ],
   "source": [
    "from datasets import load_dataset\n",
    "from utils import jpeg_compress, webp_compress, pad, crop, nn_compress, hific_lo_compress\n",
    "import compressai\n",
    "from evaluate import evaluator\n",
    "from transformers import pipeline\n",
    "import torch\n",
    "import numpy as np\n",
    "import matplotlib.pyplot as plt\n",
    "from piq import LPIPS\n",
    "from torch.nn import MSELoss"
   ]
  },
  {
   "cell_type": "code",
   "execution_count": 2,
   "id": "97e6e0bc-3fbc-4c9d-bc40-aa8538061773",
   "metadata": {},
   "outputs": [],
   "source": [
    "def jpeg_compress_xray(sample):\n",
    "    img,bpp = jpeg_compress(sample['image'])\n",
    "    sample['image'] = img\n",
    "    sample['bpp' ] = bpp\n",
    "    return sample\n",
    "    \n",
    "def webp_compress_xray(sample):\n",
    "    img,bpp = webp_compress(sample['image'])\n",
    "    sample['image'] = img\n",
    "    sample['bpp' ] = bpp\n",
    "    return sample\n",
    "\n",
    "net_mbt2018 = compressai.zoo.mbt2018(quality=1, pretrained=True).eval().to(\"cpu\")\n",
    "def mbt2018_compress_xray(sample):\n",
    "    img,bpp = nn_compress(sample['image'],net_mbt2018,\"cpu\")\n",
    "    sample['image'] = img\n",
    "    sample['bpp'] = bpp\n",
    "    return sample\n",
    "\n",
    "def hific_lo_compress_xray(sample):\n",
    "    img,bpp = hific_lo_compress(sample['image'])\n",
    "    sample['image'] = img\n",
    "    sample['bpp' ] = bpp\n",
    "    return sample"
   ]
  },
  {
   "cell_type": "code",
   "execution_count": 3,
   "id": "87b13540-6ab3-4f4f-9d97-4cfebb87a34a",
   "metadata": {},
   "outputs": [],
   "source": [
    "image_compression_methods = [\n",
    "    jpeg_compress_xray,\n",
    "    webp_compress_xray,\n",
    "    mbt2018_compress_xray,\n",
    "    hific_lo_compress_xray\n",
    "]"
   ]
  },
  {
   "cell_type": "code",
   "execution_count": 4,
   "id": "5f76036d-fe12-41dc-94ec-79f4cbd67624",
   "metadata": {},
   "outputs": [],
   "source": [
    "xray = [load_dataset(\"keremberke/chest-xray-classification\", \"full\", split=\"validation\")]"
   ]
  },
  {
   "cell_type": "code",
   "execution_count": 5,
   "id": "47367119-9e4d-4d79-bb77-736b2f31fe8a",
   "metadata": {},
   "outputs": [
    {
     "data": {
      "application/vnd.jupyter.widget-view+json": {
       "model_id": "fbb60307665444d5ab64219a35118db6",
       "version_major": 2,
       "version_minor": 0
      },
      "text/plain": [
       "Map:   0%|          | 0/1165 [00:00<?, ? examples/s]"
      ]
     },
     "metadata": {},
     "output_type": "display_data"
    }
   ],
   "source": [
    "for method in image_compression_methods:\n",
    "    xray.append(xray[0].map(method))"
   ]
  },
  {
   "cell_type": "code",
   "execution_count": 6,
   "id": "5b1049bf-7037-4195-82d7-6a3333ab186e",
   "metadata": {},
   "outputs": [
    {
     "data": {
      "text/plain": [
       "[0.16469623457618024,\n",
       " 0.045985783261802575,\n",
       " 0.03231692596566524,\n",
       " 0.010857920634388412]"
      ]
     },
     "execution_count": 6,
     "metadata": {},
     "output_type": "execute_result"
    }
   ],
   "source": [
    "image_bpp = [np.mean(method['bpp']) for method in xray[1:]]\n",
    "image_bpp"
   ]
  },
  {
   "cell_type": "code",
   "execution_count": 7,
   "id": "aa91e2d4-eaec-474b-9415-004020ad6e66",
   "metadata": {},
   "outputs": [
    {
     "name": "stderr",
     "output_type": "stream",
     "text": [
      "/home/dan/.local/lib/python3.10/site-packages/torchvision/models/_utils.py:208: UserWarning: The parameter 'pretrained' is deprecated since 0.13 and may be removed in the future, please use 'weights' instead.\n",
      "  warnings.warn(\n",
      "/home/dan/.local/lib/python3.10/site-packages/torchvision/models/_utils.py:223: UserWarning: Arguments other than a weight enum or `None` for 'weights' are deprecated since 0.13 and may be removed in the future. The current behavior is equivalent to passing `weights=VGG16_Weights.IMAGENET1K_V1`. You can also use `weights=VGG16_Weights.DEFAULT` to get the most up-to-date weights.\n",
      "  warnings.warn(msg)\n"
     ]
    }
   ],
   "source": [
    "lpips_metric = LPIPS()\n",
    "mse_metric = MSELoss()"
   ]
  },
  {
   "cell_type": "code",
   "execution_count": 9,
   "id": "a3302b15-4efa-4906-8f55-295c1be57478",
   "metadata": {},
   "outputs": [],
   "source": [
    "lpips = []\n",
    "mse = []\n",
    "for method in xray:\n",
    "    method = method.with_format(\"torch\")\n",
    "    lpips.append([])\n",
    "    mse.append([])\n",
    "    for i_sample,sample in enumerate(xray[0].with_format(\"torch\")):\n",
    "        compressed_sample = method[i_sample]\n",
    "        reference = sample['image'].to(torch.float32)\n",
    "        if (reference.shape[-1] != 3):        \n",
    "            reference = reference.unsqueeze(2)\n",
    "        reference = reference.permute(2,0,1).unsqueeze(0)\n",
    "        distorted = compressed_sample['image'].to(torch.float32)\n",
    "        if (distorted.shape[-1] != 3):        \n",
    "            distorted = distorted.unsqueeze(2)\n",
    "        distorted = distorted.permute(2,0,1).unsqueeze(0)\n",
    "\n",
    "        if reference.shape[1] != distorted.shape[1]:\n",
    "            distorted = transforms.functional.rgb_to_grayscale(distorted)\n",
    "        \n",
    "        lpips[-1].append(lpips_metric(reference,distorted).detach().item())\n",
    "        mse[-1].append(mse_metric(reference,distorted).detach().item())"
   ]
  },
  {
   "cell_type": "code",
   "execution_count": 10,
   "id": "d28c97d2-ab95-4fa2-a094-9ee073615f65",
   "metadata": {},
   "outputs": [
    {
     "name": "stderr",
     "output_type": "stream",
     "text": [
      "/tmp/ipykernel_1306732/986530016.py:1: RuntimeWarning: divide by zero encountered in log10\n",
      "  PSNR = [[20*np.log10(255)-10*np.log10(d) for d in m] for m in mse]\n"
     ]
    },
    {
     "data": {
      "text/plain": [
       "[inf,\n",
       " 30.006285440033686,\n",
       " 32.69496335930339,\n",
       " 34.703742060097206,\n",
       " 36.44207814200317]"
      ]
     },
     "execution_count": 10,
     "metadata": {},
     "output_type": "execute_result"
    }
   ],
   "source": [
    "PSNR = [[20*np.log10(255)-10*np.log10(d) for d in m] for m in mse]\n",
    "PSNR = [np.mean(d) for d in PSNR]\n",
    "PSNR"
   ]
  },
  {
   "cell_type": "code",
   "execution_count": 11,
   "id": "5a521719-a501-45d0-8288-0773a4ca2a67",
   "metadata": {},
   "outputs": [
    {
     "name": "stderr",
     "output_type": "stream",
     "text": [
      "/tmp/ipykernel_1306732/1126017225.py:1: RuntimeWarning: divide by zero encountered in log10\n",
      "  neg_log_lpips = [[-10*np.log10(d) for d in m] for m in lpips]\n"
     ]
    },
    {
     "data": {
      "text/plain": [
       "[inf, 6.851561133139928, 7.5847302963319, 7.799718846584859, 13.24957840692775]"
      ]
     },
     "execution_count": 11,
     "metadata": {},
     "output_type": "execute_result"
    }
   ],
   "source": [
    "neg_log_lpips = [[-10*np.log10(d) for d in m] for m in lpips]\n",
    "neg_log_lpips = [np.mean(d) for d in neg_log_lpips]\n",
    "neg_log_lpips"
   ]
  }
 ],
 "metadata": {
  "kernelspec": {
   "display_name": "Python 3 (ipykernel)",
   "language": "python",
   "name": "python3"
  },
  "language_info": {
   "codemirror_mode": {
    "name": "ipython",
    "version": 3
   },
   "file_extension": ".py",
   "mimetype": "text/x-python",
   "name": "python",
   "nbconvert_exporter": "python",
   "pygments_lexer": "ipython3",
   "version": "3.10.12"
  }
 },
 "nbformat": 4,
 "nbformat_minor": 5
}
