{
 "cells": [
  {
   "cell_type": "code",
   "execution_count": 1,
   "id": "444b0a04-8799-4163-9284-895a9e53243d",
   "metadata": {},
   "outputs": [],
   "source": [
    "import piq\n",
    "import datasets\n",
    "import torch\n",
    "from torchvision import transforms\n",
    "from datasets import Dataset\n",
    "from datasets import load_dataset\n",
    "from transformers import pipeline\n",
    "from evaluate import evaluator"
   ]
  },
  {
   "cell_type": "code",
   "execution_count": 2,
   "id": "ac95e35e-a88f-4271-a5d4-9f99f222556d",
   "metadata": {},
   "outputs": [],
   "source": [
    "def pil_to_pt(img):\n",
    "    t = transforms.functional.pil_to_tensor(img)\n",
    "    t = t.to(torch.float)\n",
    "    t = t/255\n",
    "    t = t.unsqueeze(0)\n",
    "    return t"
   ]
  },
  {
   "cell_type": "code",
   "execution_count": 3,
   "id": "ec052a0a-f0b7-448c-97bb-40c42b39643a",
   "metadata": {},
   "outputs": [],
   "source": [
    "vit_b = pipeline(\"image-classification\", model=\"google/vit-base-patch16-224\")\n",
    "task_evaluator = evaluator(\"image-classification\")\n",
    "clip_iqa = piq.CLIPIQA()\n",
    "dataset = load_dataset(\"imagenet-1k\")"
   ]
  },
  {
   "cell_type": "code",
   "execution_count": null,
   "id": "effb7ee2-6d4e-4798-be87-ab790e953255",
   "metadata": {},
   "outputs": [],
   "source": [
    "%%time\n",
    "\n",
    "quality = []\n",
    "correct = []\n",
    "\n",
    "for i_sample in range(dataset['validation'].num_rows):\n",
    "    sample = Dataset.from_dict(dataset['validation'][i_sample:i_sample+1])\n",
    "    \n",
    "    img = sample[0]['image']\n",
    "    x = pil_to_pt(img)\n",
    "    quality.append(clip_iqa(x).numpy()[0][0])\n",
    "    \n",
    "    eval_results = task_evaluator.compute(\n",
    "        model_or_pipeline=vit_b,\n",
    "        data=sample,\n",
    "        metric=\"accuracy\",\n",
    "        label_mapping=vit_b.model.config.label2id,\n",
    "    )\n",
    "    correct.append(eval_results['accuracy'])\n",
    "MPQv0 = Dataset.from_dict({\"quality\":quality,\"correct\":correct})\n",
    "MPQv0 = MPQv0.train_test_split(0.2)\n",
    "MPQv0.push_to_hub(\"danjacobellis/MPQv1\")"
   ]
  }
 ],
 "metadata": {
  "kernelspec": {
   "display_name": "Python 3 (ipykernel)",
   "language": "python",
   "name": "python3"
  },
  "language_info": {
   "codemirror_mode": {
    "name": "ipython",
    "version": 3
   },
   "file_extension": ".py",
   "mimetype": "text/x-python",
   "name": "python",
   "nbconvert_exporter": "python",
   "pygments_lexer": "ipython3",
   "version": "3.10.12"
  }
 },
 "nbformat": 4,
 "nbformat_minor": 5
}
