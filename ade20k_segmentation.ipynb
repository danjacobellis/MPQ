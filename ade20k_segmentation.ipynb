{
 "cells": [
  {
   "cell_type": "code",
   "execution_count": 1,
   "id": "bb23d64e-ee75-4d83-ab23-34b301defbab",
   "metadata": {},
   "outputs": [
    {
     "name": "stderr",
     "output_type": "stream",
     "text": [
      "2023-12-05 14:44:03.521601: E tensorflow/compiler/xla/stream_executor/cuda/cuda_dnn.cc:9342] Unable to register cuDNN factory: Attempting to register factory for plugin cuDNN when one has already been registered\n",
      "2023-12-05 14:44:03.521649: E tensorflow/compiler/xla/stream_executor/cuda/cuda_fft.cc:609] Unable to register cuFFT factory: Attempting to register factory for plugin cuFFT when one has already been registered\n",
      "2023-12-05 14:44:03.521692: E tensorflow/compiler/xla/stream_executor/cuda/cuda_blas.cc:1518] Unable to register cuBLAS factory: Attempting to register factory for plugin cuBLAS when one has already been registered\n"
     ]
    }
   ],
   "source": [
    "from datasets import load_dataset\n",
    "from utils import jpeg_compress, webp_compress, pad, crop, nn_compress, hific_lo_compress\n",
    "import compressai\n",
    "from transformers import SegformerForSemanticSegmentation\n",
    "import PIL\n",
    "from torchvision import transforms\n",
    "import torch\n",
    "from torchmetrics.classification import MulticlassJaccardIndex\n",
    "import numpy as np"
   ]
  },
  {
   "cell_type": "code",
   "execution_count": 2,
   "id": "b414526d-18c4-417d-85b0-ac78acbe2de1",
   "metadata": {},
   "outputs": [],
   "source": [
    "def jpeg_compress_ade(sample):\n",
    "    img,bpp = jpeg_compress(sample['image'])\n",
    "    sample['image'] = img\n",
    "    sample['bpp' ] = bpp\n",
    "    return sample\n",
    "    \n",
    "def webp_compress_ade(sample):\n",
    "    img,bpp = webp_compress(sample['image'])\n",
    "    sample['image'] = img\n",
    "    sample['bpp' ] = bpp\n",
    "    return sample\n",
    "\n",
    "net_mbt2018 = compressai.zoo.mbt2018(quality=1, pretrained=True).eval().to(\"cpu\")\n",
    "def mbt2018_compress_ade(sample):\n",
    "    img,bpp = nn_compress(sample['image'],net_mbt2018,\"cpu\")\n",
    "    sample['image'] = img\n",
    "    sample['bpp'] = bpp\n",
    "    return sample\n",
    "\n",
    "def hific_lo_compress_ade(sample):\n",
    "    img,bpp = hific_lo_compress(sample['image'])\n",
    "    sample['image'] = img\n",
    "    sample['bpp' ] = bpp\n",
    "    return sample"
   ]
  },
  {
   "cell_type": "code",
   "execution_count": 3,
   "id": "06f5a4e9-1995-479b-9934-b1c3f07d5b9d",
   "metadata": {},
   "outputs": [],
   "source": [
    "image_compression_methods = [\n",
    "    jpeg_compress_ade,\n",
    "    webp_compress_ade,\n",
    "    # mbt2018_compress_ade,\n",
    "    # hific_lo_compress_ade\n",
    "]\n",
    "models = [\n",
    "    \"nvidia/segformer-b0-finetuned-ade-512-512\",\n",
    "    # \"nvidia/segformer-b2-finetuned-ade-512-512\",\n",
    "    # \"nvidia/segformer-b5-finetuned-ade-640-640\"\n",
    "]"
   ]
  },
  {
   "cell_type": "code",
   "execution_count": 4,
   "id": "3f72505a-fefb-45f2-8a4b-596ac2005bb9",
   "metadata": {},
   "outputs": [],
   "source": [
    "ade20k = [load_dataset(\"scene_parse_150\",split='validation')]"
   ]
  },
  {
   "cell_type": "code",
   "execution_count": 274,
   "id": "3caecc98-edf5-4f52-88c8-6df079192594",
   "metadata": {},
   "outputs": [
    {
     "data": {
      "application/vnd.jupyter.widget-view+json": {
       "model_id": "191aa54189fe4761b4fa27a0ebe1757a",
       "version_major": 2,
       "version_minor": 0
      },
      "text/plain": [
       "config.json:   0%|          | 0.00/6.89k [00:00<?, ?B/s]"
      ]
     },
     "metadata": {},
     "output_type": "display_data"
    },
    {
     "data": {
      "application/vnd.jupyter.widget-view+json": {
       "model_id": "aa2de8382b734163997d32d89b01ee9a",
       "version_major": 2,
       "version_minor": 0
      },
      "text/plain": [
       "pytorch_model.bin:   0%|          | 0.00/339M [00:00<?, ?B/s]"
      ]
     },
     "metadata": {},
     "output_type": "display_data"
    }
   ],
   "source": [
    "model = SegformerForSemanticSegmentation.from_pretrained(models[0]).cuda()"
   ]
  },
  {
   "cell_type": "code",
   "execution_count": 275,
   "id": "74da3f26-f178-45a8-943b-b7b295587828",
   "metadata": {},
   "outputs": [],
   "source": [
    "iou = []\n",
    "for sample in ade20k[0]:\n",
    "    ground_truth = sample['annotation']\n",
    "    img = sample['image'].resize((512,512))\n",
    "    with torch.no_grad():\n",
    "        inputs = transforms.ToTensor()(img).unsqueeze(0).to(torch.float).to(\"cuda\")\n",
    "        outputs = model(inputs).logits[0]\n",
    "        predicted = transforms.ToPILImage()(outputs.argmax(dim=0).to(torch.uint8))\n",
    "        predicted = predicted.resize((ground_truth.width,ground_truth.height),PIL.Image.Resampling.NEAREST)\n",
    "        x1 = transforms.PILToTensor()(ground_truth) \n",
    "        x2 = transforms.PILToTensor()(predicted)\n",
    "        x1 = x1-1\n",
    "        iou.append(\n",
    "            MulticlassJaccardIndex(num_classes=151,average='micro',ignore_index=255)\n",
    "            (x1,x2).item()\n",
    "        )\n",
    "    # inputs = extractor(images=img, return_tensors=\"pt\",do_resize=False).to(\"cuda:0\")\n",
    "    # outputs = model(**inputs)\n",
    "    # logits = outputs.logits  # shape (batch_size, num_labels, height/4, width/4)\n",
    "    # predictions = logits.argmax(dim=1)[0].detach().cpu()\n",
    "    # resize = transforms.Resize(\n",
    "    #     (ground_truth.height,ground_truth.width),\n",
    "    #     antialias=True\n",
    "    # )\n",
    "    # predictions = resize(\n",
    "    #     predictions.unsqueeze(0).unsqueeze(0)\n",
    "    # )[0][0]\n",
    "\n",
    "    # x.append(np.array(ground_truth))\n",
    "    # y.append(np.array(predictions))\n",
    "# iou = torch.vstack(iou)"
   ]
  },
  {
   "cell_type": "code",
   "execution_count": 276,
   "id": "0a0a5c10-5510-4bde-8837-726b245441ea",
   "metadata": {},
   "outputs": [
    {
     "data": {
      "text/plain": [
       "0.615363365973346"
      ]
     },
     "execution_count": 276,
     "metadata": {},
     "output_type": "execute_result"
    }
   ],
   "source": [
    "np.mean(iou)"
   ]
  },
  {
   "cell_type": "code",
   "execution_count": 277,
   "id": "de02869e-488e-4ea3-ae7e-4592f5586f6a",
   "metadata": {},
   "outputs": [
    {
     "data": {
      "image/png": "[encoded data removed]",
      "text/plain": [
       "<PIL.PngImagePlugin.PngImageFile image mode=L size=448x299>"
      ]
     },
     "execution_count": 277,
     "metadata": {},
     "output_type": "execute_result"
    }
   ],
   "source": [
    "ground_truth"
   ]
  },
  {
   "cell_type": "code",
   "execution_count": 278,
   "id": "6765a43c-e805-4a82-a657-e269f050d4e5",
   "metadata": {},
   "outputs": [
    {
     "data": {
      "image/png": "[encoded data removed]",
      "text/plain": [
       "<PIL.Image.Image image mode=L size=448x299>"
      ]
     },
     "execution_count": 278,
     "metadata": {},
     "output_type": "execute_result"
    }
   ],
   "source": [
    "predicted"
   ]
  },
  {
   "cell_type": "code",
   "execution_count": 6,
   "id": "4235bcc9-f6c8-4335-bc30-94ea8cad37a7",
   "metadata": {},
   "outputs": [],
   "source": [
    "mean_iou = evaluate.load(\"mean_iou\")"
   ]
  },
  {
   "cell_type": "code",
   "execution_count": 5,
   "id": "f281a14a-8b52-4a0b-bea1-08f88a1f4041",
   "metadata": {},
   "outputs": [],
   "source": [
    "for method in image_compression_methods:\n",
    "    ade20k.append(ade20k[0].map(method))"
   ]
  },
  {
   "cell_type": "code",
   "execution_count": 6,
   "id": "70f4af95-8323-49ba-a751-fad1c8ebaa2c",
   "metadata": {},
   "outputs": [],
   "source": [
    "def evaluate_segmentation_miou(data):\n",
    "    iou = []\n",
    "    for sample in data:\n",
    "        ground_truth = sample['annotation']\n",
    "        img = sample['image'].resize((512,512))\n",
    "        with torch.no_grad():\n",
    "            inputs = transforms.ToTensor()(img).unsqueeze(0).to(torch.float).to(\"cuda\")\n",
    "            outputs = model(inputs).logits[0]\n",
    "            predicted = transforms.ToPILImage()(outputs.argmax(dim=0).to(torch.uint8))\n",
    "            predicted = predicted.resize((ground_truth.width,ground_truth.height),PIL.Image.Resampling.NEAREST)\n",
    "            x1 = transforms.PILToTensor()(ground_truth) \n",
    "            x2 = transforms.PILToTensor()(predicted)\n",
    "            x1 = x1-1\n",
    "            iou.append(\n",
    "                MulticlassJaccardIndex(num_classes=151,average='micro',ignore_index=255)\n",
    "                (x1,x2).item()\n",
    "            )\n",
    "    return np.mean(iou)"
   ]
  },
  {
   "cell_type": "code",
   "execution_count": null,
   "id": "25691382-ce83-4e87-a9f3-98ed0d412be3",
   "metadata": {},
   "outputs": [],
   "source": [
    "    # x = []\n",
    "    # y = []\n",
    "    # for sample in data:\n",
    "    #     ground_truth = sample['annotation']\n",
    "    #     img = sample['image']\n",
    "    #     inputs = extractor(images=img, return_tensors=\"pt\",do_resize=False).to(\"cuda:0\")\n",
    "    #     outputs = model(**inputs)\n",
    "    #     logits = outputs.logits  # shape (batch_size, num_labels, height/4, width/4)\n",
    "    #     predictions = logits.argmax(dim=1)[0].detach().cpu()\n",
    "    #     resize = transforms.Resize(\n",
    "    #         (ground_truth.height,ground_truth.width),\n",
    "    #         antialias=True\n",
    "    #     )\n",
    "    #     predictions = resize(\n",
    "    #         predictions.unsqueeze(0).unsqueeze(0)\n",
    "    #     )[0][0]\n",
    "    \n",
    "    #     x.append(np.array(ground_truth))\n",
    "    #     y.append(np.array(predictions))\n",
    "    # return mean_iou.compute(\n",
    "    #     predictions=y,\n",
    "    #     references=x,\n",
    "    #     num_labels=150,\n",
    "    #     ignore_index=255,\n",
    "    #     reduce_labels=True\n",
    "    # )['mean_iou']"
   ]
  },
  {
   "cell_type": "code",
   "execution_count": 7,
   "id": "52d9ac4a-8df1-4ff3-80af-9de8a400fdd6",
   "metadata": {},
   "outputs": [
    {
     "name": "stdout",
     "output_type": "stream",
     "text": [
      "0 , 0\n",
      "0 , 1\n",
      "0 , 2\n"
     ]
    }
   ],
   "source": [
    "eval_results = []\n",
    "for i_model,model_name in enumerate(models):\n",
    "    eval_results.append([])\n",
    "    model = SegformerForSemanticSegmentation.from_pretrained(model_name).to(\"cuda:0\")\n",
    "    for i_method,method in enumerate(ade20k):\n",
    "        print(i_model, \",\", i_method)\n",
    "        eval_results[i_model].append(\n",
    "            evaluate_segmentation_miou(method)\n",
    "        )"
   ]
  },
  {
   "cell_type": "code",
   "execution_count": 8,
   "id": "29eefd6f-cd00-48f3-b8f8-ba3ebfded1a4",
   "metadata": {},
   "outputs": [
    {
     "data": {
      "text/plain": [
       "[[0.5399712639006903, 0.3919379232617357, 0.4186862684241642]]"
      ]
     },
     "execution_count": 8,
     "metadata": {},
     "output_type": "execute_result"
    }
   ],
   "source": [
    "eval_results"
   ]
  },
  {
   "cell_type": "code",
   "execution_count": 9,
   "id": "13678892-ae6f-4653-9c50-59007aa526d8",
   "metadata": {},
   "outputs": [],
   "source": [
    "segmentation_miou = eval_results[0]"
   ]
  },
  {
   "cell_type": "code",
   "execution_count": 10,
   "id": "674e5a3f-05fb-48b9-911b-b41cd8d6126f",
   "metadata": {},
   "outputs": [],
   "source": [
    "baseline_miou = segmentation_miou[0]\n",
    "segmentation_miou = segmentation_miou[1:]"
   ]
  },
  {
   "cell_type": "code",
   "execution_count": 11,
   "id": "5b1049bf-7037-4195-82d7-6a3333ab186e",
   "metadata": {},
   "outputs": [
    {
     "data": {
      "text/plain": [
       "[0.2616756840709221, 0.13477392121864093]"
      ]
     },
     "execution_count": 11,
     "metadata": {},
     "output_type": "execute_result"
    }
   ],
   "source": [
    "image_bpp = [np.mean(method['bpp']) for method in ade20k[1:]]\n",
    "image_bpp"
   ]
  },
  {
   "cell_type": "code",
   "execution_count": 12,
   "id": "94f3ef11-c88c-43b8-924d-df2e6c5872b1",
   "metadata": {},
   "outputs": [],
   "source": [
    "# import matplotlib.pyplot as plt\n",
    "# image_compression_names = [\n",
    "#     'JPEG',\n",
    "#     'WEBP',\n",
    "#     'mbt2018',\n",
    "#     'HiFiC'\n",
    "# ]\n",
    "# plt.figure(figsize=(4, 3),dpi=200)\n",
    "# plt.scatter(image_bpp, segmentation_miou, c='black', marker='x')\n",
    "# plt.annotate(\"No Additional Compression\", (0.15, baseline_miou), textcoords=\"offset points\", xytext=(0,5), ha='center')\n",
    "# plt.plot([0,1],[baseline_miou,baseline_miou],'--',c='black')\n",
    "# for i, name in enumerate(image_compression_names):\n",
    "#     if i == 1:\n",
    "#         offset = (0,-14)\n",
    "#     elif i == 3:\n",
    "#         offset = (0,-14)\n",
    "#     else:\n",
    "#         offset = (0,8)\n",
    "#     plt.annotate(name, (image_bpp[i], segmentation_miou[i]), textcoords=\"offset points\", xytext=offset, ha='center')\n",
    "# plt.xlabel('Bits Per Pixel (bpp)')\n",
    "# plt.ylabel('Segmentation MIOU')\n",
    "# plt.title('ADE20k Performance vs Bit Rate')\n",
    "# plt.xlim([0,0.3])\n",
    "# plt.ylim([0.1,0.35])\n",
    "# plt.grid(True)\n",
    "# plt.show()"
   ]
  }
 ],
 "metadata": {
  "kernelspec": {
   "display_name": "Python 3 (ipykernel)",
   "language": "python",
   "name": "python3"
  },
  "language_info": {
   "codemirror_mode": {
    "name": "ipython",
    "version": 3
   },
   "file_extension": ".py",
   "mimetype": "text/x-python",
   "name": "python",
   "nbconvert_exporter": "python",
   "pygments_lexer": "ipython3",
   "version": "3.10.12"
  }
 },
 "nbformat": 4,
 "nbformat_minor": 5
}
