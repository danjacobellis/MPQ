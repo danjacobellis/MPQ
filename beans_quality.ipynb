{
 "cells": [
  {
   "cell_type": "code",
   "execution_count": 1,
   "id": "1607de3b-cd13-4ca2-ad44-2262687b966e",
   "metadata": {},
   "outputs": [
    {
     "name": "stderr",
     "output_type": "stream",
     "text": [
      "2023-10-25 21:29:14.832767: E tensorflow/compiler/xla/stream_executor/cuda/cuda_dnn.cc:9342] Unable to register cuDNN factory: Attempting to register factory for plugin cuDNN when one has already been registered\n",
      "2023-10-25 21:29:14.832813: E tensorflow/compiler/xla/stream_executor/cuda/cuda_fft.cc:609] Unable to register cuFFT factory: Attempting to register factory for plugin cuFFT when one has already been registered\n",
      "2023-10-25 21:29:14.832852: E tensorflow/compiler/xla/stream_executor/cuda/cuda_blas.cc:1518] Unable to register cuBLAS factory: Attempting to register factory for plugin cuBLAS when one has already been registered\n"
     ]
    }
   ],
   "source": [
    "from datasets import load_dataset\n",
    "from utils import jpeg_compress, webp_compress, pad, crop, nn_compress, hific_lo_compress\n",
    "import compressai\n",
    "from evaluate import evaluator\n",
    "from transformers import pipeline\n",
    "import torch\n",
    "import numpy as np\n",
    "import matplotlib.pyplot as plt"
   ]
  },
  {
   "cell_type": "code",
   "execution_count": 2,
   "id": "97e6e0bc-3fbc-4c9d-bc40-aa8538061773",
   "metadata": {},
   "outputs": [],
   "source": [
    "def jpeg_compress_beans(sample):\n",
    "    img,bpp = jpeg_compress(sample['image'])\n",
    "    sample['image'] = img\n",
    "    sample['bpp' ] = bpp\n",
    "    return sample\n",
    "    \n",
    "def webp_compress_beans(sample):\n",
    "    img,bpp = webp_compress(sample['image'])\n",
    "    sample['image'] = img\n",
    "    sample['bpp' ] = bpp\n",
    "    return sample\n",
    "\n",
    "net_mbt2018 = compressai.zoo.mbt2018(quality=1, pretrained=True).eval().to(\"cpu\")\n",
    "def mbt2018_compress_beans(sample):\n",
    "    img,bpp = nn_compress(sample['image'],net_mbt2018,\"cpu\")\n",
    "    sample['image'] = img\n",
    "    sample['bpp'] = bpp\n",
    "    return sample\n",
    "\n",
    "def hific_lo_compress_beans(sample):\n",
    "    img,bpp = hific_lo_compress(sample['image'])\n",
    "    sample['image'] = img\n",
    "    sample['bpp' ] = bpp\n",
    "    return sample"
   ]
  },
  {
   "cell_type": "code",
   "execution_count": 3,
   "id": "87b13540-6ab3-4f4f-9d97-4cfebb87a34a",
   "metadata": {},
   "outputs": [],
   "source": [
    "image_compression_methods = [\n",
    "    jpeg_compress_beans,\n",
    "    webp_compress_beans,\n",
    "    mbt2018_compress_beans,\n",
    "    hific_lo_compress_beans\n",
    "]"
   ]
  },
  {
   "cell_type": "code",
   "execution_count": 4,
   "id": "5f76036d-fe12-41dc-94ec-79f4cbd67624",
   "metadata": {},
   "outputs": [
    {
     "data": {
      "application/vnd.jupyter.widget-view+json": {
       "model_id": "4e085e9a98c345c197d224dadc584f61",
       "version_major": 2,
       "version_minor": 0
      },
      "text/plain": [
       "Downloading builder script:   0%|          | 0.00/3.61k [00:00<?, ?B/s]"
      ]
     },
     "metadata": {},
     "output_type": "display_data"
    },
    {
     "data": {
      "application/vnd.jupyter.widget-view+json": {
       "model_id": "ec5079b1dd77411b931bf8353189f722",
       "version_major": 2,
       "version_minor": 0
      },
      "text/plain": [
       "Downloading metadata:   0%|          | 0.00/2.24k [00:00<?, ?B/s]"
      ]
     },
     "metadata": {},
     "output_type": "display_data"
    },
    {
     "data": {
      "application/vnd.jupyter.widget-view+json": {
       "model_id": "3c3fad95d225477d8ef82ba15493305d",
       "version_major": 2,
       "version_minor": 0
      },
      "text/plain": [
       "Downloading readme:   0%|          | 0.00/4.75k [00:00<?, ?B/s]"
      ]
     },
     "metadata": {},
     "output_type": "display_data"
    },
    {
     "data": {
      "application/vnd.jupyter.widget-view+json": {
       "model_id": "02604bb1a65f4b24b27b0bc81bea98c3",
       "version_major": 2,
       "version_minor": 0
      },
      "text/plain": [
       "Downloading data files:   0%|          | 0/3 [00:00<?, ?it/s]"
      ]
     },
     "metadata": {},
     "output_type": "display_data"
    },
    {
     "data": {
      "application/vnd.jupyter.widget-view+json": {
       "model_id": "1f14c6c32c3f4a8f991e415a44f9782f",
       "version_major": 2,
       "version_minor": 0
      },
      "text/plain": [
       "Downloading data:   0%|          | 0.00/144M [00:00<?, ?B/s]"
      ]
     },
     "metadata": {},
     "output_type": "display_data"
    },
    {
     "data": {
      "application/vnd.jupyter.widget-view+json": {
       "model_id": "eb8916598fe04a4c990e16f66d0e6ee0",
       "version_major": 2,
       "version_minor": 0
      },
      "text/plain": [
       "Downloading data:   0%|          | 0.00/18.5M [00:00<?, ?B/s]"
      ]
     },
     "metadata": {},
     "output_type": "display_data"
    },
    {
     "data": {
      "application/vnd.jupyter.widget-view+json": {
       "model_id": "b9d467a4dc764b5e82f4b0074f1a4dbc",
       "version_major": 2,
       "version_minor": 0
      },
      "text/plain": [
       "Downloading data:   0%|          | 0.00/17.7M [00:00<?, ?B/s]"
      ]
     },
     "metadata": {},
     "output_type": "display_data"
    },
    {
     "data": {
      "application/vnd.jupyter.widget-view+json": {
       "model_id": "f13a7184cd944ac5adf1eef212d9e8bb",
       "version_major": 2,
       "version_minor": 0
      },
      "text/plain": [
       "Extracting data files:   0%|          | 0/3 [00:00<?, ?it/s]"
      ]
     },
     "metadata": {},
     "output_type": "display_data"
    },
    {
     "data": {
      "application/vnd.jupyter.widget-view+json": {
       "model_id": "d78fda09c43a4489a406b57effcaafaf",
       "version_major": 2,
       "version_minor": 0
      },
      "text/plain": [
       "Generating train split:   0%|          | 0/1034 [00:00<?, ? examples/s]"
      ]
     },
     "metadata": {},
     "output_type": "display_data"
    },
    {
     "data": {
      "application/vnd.jupyter.widget-view+json": {
       "model_id": "1aef6edab825448d83b982508ccbd298",
       "version_major": 2,
       "version_minor": 0
      },
      "text/plain": [
       "Generating validation split:   0%|          | 0/133 [00:00<?, ? examples/s]"
      ]
     },
     "metadata": {},
     "output_type": "display_data"
    },
    {
     "data": {
      "application/vnd.jupyter.widget-view+json": {
       "model_id": "1d6da621190a477381ab5a5d9a325559",
       "version_major": 2,
       "version_minor": 0
      },
      "text/plain": [
       "Generating test split:   0%|          | 0/128 [00:00<?, ? examples/s]"
      ]
     },
     "metadata": {},
     "output_type": "display_data"
    }
   ],
   "source": [
    "beans = [load_dataset(\"beans\", split=\"validation\")]"
   ]
  },
  {
   "cell_type": "code",
   "execution_count": null,
   "id": "47367119-9e4d-4d79-bb77-736b2f31fe8a",
   "metadata": {},
   "outputs": [
    {
     "data": {
      "application/vnd.jupyter.widget-view+json": {
       "model_id": "e02ba73dba094c6f95976bfa1e6398bd",
       "version_major": 2,
       "version_minor": 0
      },
      "text/plain": [
       "Map:   0%|          | 0/133 [00:00<?, ? examples/s]"
      ]
     },
     "metadata": {},
     "output_type": "display_data"
    },
    {
     "data": {
      "application/vnd.jupyter.widget-view+json": {
       "model_id": "fe8e60a03b9a4252aa12e8c5cdf92e15",
       "version_major": 2,
       "version_minor": 0
      },
      "text/plain": [
       "Map:   0%|          | 0/133 [00:00<?, ? examples/s]"
      ]
     },
     "metadata": {},
     "output_type": "display_data"
    },
    {
     "data": {
      "application/vnd.jupyter.widget-view+json": {
       "model_id": "2c866b991eb142139a23212c0dfa8e75",
       "version_major": 2,
       "version_minor": 0
      },
      "text/plain": [
       "Map:   0%|          | 0/133 [00:00<?, ? examples/s]"
      ]
     },
     "metadata": {},
     "output_type": "display_data"
    }
   ],
   "source": [
    "for method in image_compression_methods:\n",
    "    beans.append(beans[0].map(method))"
   ]
  },
  {
   "cell_type": "code",
   "execution_count": null,
   "id": "5b1049bf-7037-4195-82d7-6a3333ab186e",
   "metadata": {},
   "outputs": [],
   "source": [
    "image_bpp = [np.mean(method['bpp']) for method in beans[1:]]\n",
    "image_bpp"
   ]
  }
 ],
 "metadata": {
  "kernelspec": {
   "display_name": "Python 3 (ipykernel)",
   "language": "python",
   "name": "python3"
  },
  "language_info": {
   "codemirror_mode": {
    "name": "ipython",
    "version": 3
   },
   "file_extension": ".py",
   "mimetype": "text/x-python",
   "name": "python",
   "nbconvert_exporter": "python",
   "pygments_lexer": "ipython3",
   "version": "3.10.12"
  }
 },
 "nbformat": 4,
 "nbformat_minor": 5
}
