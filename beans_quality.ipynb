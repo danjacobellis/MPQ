{
 "cells": [
  {
   "cell_type": "code",
   "execution_count": 1,
   "id": "1607de3b-cd13-4ca2-ad44-2262687b966e",
   "metadata": {},
   "outputs": [
    {
     "name": "stderr",
     "output_type": "stream",
     "text": [
      "2023-10-25 22:49:31.852500: E tensorflow/compiler/xla/stream_executor/cuda/cuda_dnn.cc:9342] Unable to register cuDNN factory: Attempting to register factory for plugin cuDNN when one has already been registered\n",
      "2023-10-25 22:49:31.852548: E tensorflow/compiler/xla/stream_executor/cuda/cuda_fft.cc:609] Unable to register cuFFT factory: Attempting to register factory for plugin cuFFT when one has already been registered\n",
      "2023-10-25 22:49:31.852594: E tensorflow/compiler/xla/stream_executor/cuda/cuda_blas.cc:1518] Unable to register cuBLAS factory: Attempting to register factory for plugin cuBLAS when one has already been registered\n"
     ]
    }
   ],
   "source": [
    "from datasets import load_dataset\n",
    "from utils import jpeg_compress, webp_compress, pad, crop, nn_compress, hific_lo_compress\n",
    "import compressai\n",
    "from evaluate import evaluator\n",
    "from transformers import pipeline\n",
    "import torch\n",
    "import numpy as np\n",
    "import matplotlib.pyplot as plt\n",
    "from piq import LPIPS\n",
    "from torch.nn import MSELoss"
   ]
  },
  {
   "cell_type": "code",
   "execution_count": 2,
   "id": "97e6e0bc-3fbc-4c9d-bc40-aa8538061773",
   "metadata": {},
   "outputs": [],
   "source": [
    "def jpeg_compress_beans(sample):\n",
    "    img,bpp = jpeg_compress(sample['image'])\n",
    "    sample['image'] = img\n",
    "    sample['bpp' ] = bpp\n",
    "    return sample\n",
    "    \n",
    "def webp_compress_beans(sample):\n",
    "    img,bpp = webp_compress(sample['image'])\n",
    "    sample['image'] = img\n",
    "    sample['bpp' ] = bpp\n",
    "    return sample\n",
    "\n",
    "net_mbt2018 = compressai.zoo.mbt2018(quality=1, pretrained=True).eval().to(\"cpu\")\n",
    "def mbt2018_compress_beans(sample):\n",
    "    img,bpp = nn_compress(sample['image'],net_mbt2018,\"cpu\")\n",
    "    sample['image'] = img\n",
    "    sample['bpp'] = bpp\n",
    "    return sample\n",
    "\n",
    "def hific_lo_compress_beans(sample):\n",
    "    img,bpp = hific_lo_compress(sample['image'])\n",
    "    sample['image'] = img\n",
    "    sample['bpp' ] = bpp\n",
    "    return sample"
   ]
  },
  {
   "cell_type": "code",
   "execution_count": 3,
   "id": "87b13540-6ab3-4f4f-9d97-4cfebb87a34a",
   "metadata": {},
   "outputs": [],
   "source": [
    "image_compression_methods = [\n",
    "    jpeg_compress_beans,\n",
    "    webp_compress_beans,\n",
    "    mbt2018_compress_beans,\n",
    "    hific_lo_compress_beans\n",
    "]"
   ]
  },
  {
   "cell_type": "code",
   "execution_count": 4,
   "id": "5f76036d-fe12-41dc-94ec-79f4cbd67624",
   "metadata": {},
   "outputs": [],
   "source": [
    "beans = [load_dataset(\"beans\", split=\"validation[0:3]\")]"
   ]
  },
  {
   "cell_type": "code",
   "execution_count": 9,
   "id": "47367119-9e4d-4d79-bb77-736b2f31fe8a",
   "metadata": {},
   "outputs": [
    {
     "data": {
      "application/vnd.jupyter.widget-view+json": {
       "model_id": "c5e5d3dabd2349d9a2b9d91f7af6729e",
       "version_major": 2,
       "version_minor": 0
      },
      "text/plain": [
       "Map:   0%|          | 0/3 [00:00<?, ? examples/s]"
      ]
     },
     "metadata": {},
     "output_type": "display_data"
    }
   ],
   "source": [
    "for method in image_compression_methods:\n",
    "    beans.append(beans[0].map(method))"
   ]
  },
  {
   "cell_type": "code",
   "execution_count": 10,
   "id": "aa91e2d4-eaec-474b-9415-004020ad6e66",
   "metadata": {},
   "outputs": [
    {
     "name": "stderr",
     "output_type": "stream",
     "text": [
      "/home/server/.local/lib/python3.10/site-packages/torchvision/models/_utils.py:208: UserWarning: The parameter 'pretrained' is deprecated since 0.13 and may be removed in the future, please use 'weights' instead.\n",
      "  warnings.warn(\n",
      "/home/server/.local/lib/python3.10/site-packages/torchvision/models/_utils.py:223: UserWarning: Arguments other than a weight enum or `None` for 'weights' are deprecated since 0.13 and may be removed in the future. The current behavior is equivalent to passing `weights=VGG16_Weights.IMAGENET1K_V1`. You can also use `weights=VGG16_Weights.DEFAULT` to get the most up-to-date weights.\n",
      "  warnings.warn(msg)\n"
     ]
    }
   ],
   "source": [
    "lpips_metric = LPIPS()\n",
    "mse_metric = MSELoss()"
   ]
  },
  {
   "cell_type": "code",
   "execution_count": 20,
   "id": "a3302b15-4efa-4906-8f55-295c1be57478",
   "metadata": {},
   "outputs": [
    {
     "name": "stdout",
     "output_type": "stream",
     "text": [
      "CPU times: user 3min 2s, sys: 12.9 s, total: 3min 14s\n",
      "Wall time: 41 s\n"
     ]
    }
   ],
   "source": [
    "%%time\n",
    "lpips = []\n",
    "mse = []\n",
    "for method in beans:\n",
    "    method = method.with_format(\"torch\")\n",
    "    lpips.append([])\n",
    "    mse.append([])\n",
    "    for i_sample,sample in enumerate(beans[0].with_format(\"torch\")):\n",
    "        compressed_sample = method[i_sample]\n",
    "        reference = sample['image'].to(torch.float32).permute(2,0,1).unsqueeze(0)\n",
    "        distorted = compressed_sample['image'].to(torch.float32).permute(2,0,1).unsqueeze(0)\n",
    "        lpips[-1].append(lpips_metric(reference,distorted).detach().item())\n",
    "        mse[-1].append(mse_metric(reference,distorted).detach().item())"
   ]
  },
  {
   "cell_type": "code",
   "execution_count": 33,
   "id": "d28c97d2-ab95-4fa2-a094-9ee073615f65",
   "metadata": {},
   "outputs": [
    {
     "name": "stderr",
     "output_type": "stream",
     "text": [
      "/tmp/ipykernel_395408/986530016.py:1: RuntimeWarning: divide by zero encountered in log10\n",
      "  PSNR = [[20*np.log10(255)-10*np.log10(d) for d in m] for m in mse]\n"
     ]
    },
    {
     "data": {
      "text/plain": [
       "[inf,\n",
       " 20.763526877858002,\n",
       " 21.96498775369172,\n",
       " 22.925198120399873,\n",
       " 21.829516076497146]"
      ]
     },
     "execution_count": 33,
     "metadata": {},
     "output_type": "execute_result"
    }
   ],
   "source": [
    "PSNR = [[20*np.log10(255)-10*np.log10(d) for d in m] for m in mse]\n",
    "PSNR = [np.mean(d) for d in PSNR]\n",
    "PSNR"
   ]
  },
  {
   "cell_type": "code",
   "execution_count": 34,
   "id": "5a521719-a501-45d0-8288-0773a4ca2a67",
   "metadata": {},
   "outputs": [
    {
     "name": "stderr",
     "output_type": "stream",
     "text": [
      "/tmp/ipykernel_395408/1126017225.py:1: RuntimeWarning: divide by zero encountered in log10\n",
      "  neg_log_lpips = [[-10*np.log10(d) for d in m] for m in lpips]\n"
     ]
    },
    {
     "data": {
      "text/plain": [
       "[inf,\n",
       " 5.716154228423233,\n",
       " 6.7499197306218255,\n",
       " 6.899412762783137,\n",
       " 9.779208600431419]"
      ]
     },
     "execution_count": 34,
     "metadata": {},
     "output_type": "execute_result"
    }
   ],
   "source": [
    "neg_log_lpips = [[-10*np.log10(d) for d in m] for m in lpips]\n",
    "neg_log_lpips = [np.mean(d) for d in neg_log_lpips]\n",
    "neg_log_lpips"
   ]
  }
 ],
 "metadata": {
  "kernelspec": {
   "display_name": "Python 3 (ipykernel)",
   "language": "python",
   "name": "python3"
  },
  "language_info": {
   "codemirror_mode": {
    "name": "ipython",
    "version": 3
   },
   "file_extension": ".py",
   "mimetype": "text/x-python",
   "name": "python",
   "nbconvert_exporter": "python",
   "pygments_lexer": "ipython3",
   "version": "3.10.12"
  }
 },
 "nbformat": 4,
 "nbformat_minor": 5
}
