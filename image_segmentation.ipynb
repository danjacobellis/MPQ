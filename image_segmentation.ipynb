{
 "cells": [
  {
   "cell_type": "code",
   "execution_count": 1,
   "id": "bb23d64e-ee75-4d83-ab23-34b301defbab",
   "metadata": {},
   "outputs": [
    {
     "name": "stderr",
     "output_type": "stream",
     "text": [
      "2023-10-16 12:30:44.937979: I tensorflow/core/util/port.cc:111] oneDNN custom operations are on. You may see slightly different numerical results due to floating-point round-off errors from different computation orders. To turn them off, set the environment variable `TF_ENABLE_ONEDNN_OPTS=0`.\n",
      "2023-10-16 12:30:44.958166: E tensorflow/compiler/xla/stream_executor/cuda/cuda_dnn.cc:9342] Unable to register cuDNN factory: Attempting to register factory for plugin cuDNN when one has already been registered\n",
      "2023-10-16 12:30:44.958188: E tensorflow/compiler/xla/stream_executor/cuda/cuda_fft.cc:609] Unable to register cuFFT factory: Attempting to register factory for plugin cuFFT when one has already been registered\n",
      "2023-10-16 12:30:44.958206: E tensorflow/compiler/xla/stream_executor/cuda/cuda_blas.cc:1518] Unable to register cuBLAS factory: Attempting to register factory for plugin cuBLAS when one has already been registered\n",
      "2023-10-16 12:30:44.962587: I tensorflow/core/platform/cpu_feature_guard.cc:182] This TensorFlow binary is optimized to use available CPU instructions in performance-critical operations.\n",
      "To enable the following instructions: AVX2 AVX_VNNI FMA, in other operations, rebuild TensorFlow with the appropriate compiler flags.\n"
     ]
    }
   ],
   "source": [
    "from datasets import load_dataset\n",
    "from utils import jpeg_compress, webp_compress, pad, crop, nn_compress, hific_lo_compress\n",
    "import compressai\n",
    "import evaluate\n",
    "from transformers import AutoFeatureExtractor, SegformerForSemanticSegmentation\n",
    "# from transformers im+port SegformerImageProcessor, SegformerForSemanticSegmentation\n",
    "# from evaluate import evaluator\n",
    "# from transformers import pipeline\n",
    "# import torch"
   ]
  },
  {
   "cell_type": "code",
   "execution_count": 2,
   "id": "b414526d-18c4-417d-85b0-ac78acbe2de1",
   "metadata": {},
   "outputs": [],
   "source": [
    "def jpeg_compress_ade(sample):\n",
    "    img,bpp = jpeg_compress(sample['image'])\n",
    "    sample['image'] = img\n",
    "    sample['bpp' ] = bpp\n",
    "    return sample\n",
    "    \n",
    "def webp_compress_ade(sample):\n",
    "    img,bpp = webp_compress(sample['image'])\n",
    "    sample['image'] = img\n",
    "    sample['bpp' ] = bpp\n",
    "    return sample\n",
    "\n",
    "device = \"cuda\"\n",
    "net_mbt2018 = compressai.zoo.mbt2018(quality=1, pretrained=True).eval().to(device)\n",
    "def mbt2018_compress_ade(sample):\n",
    "    img,bpp = nn_compress(sample['image'],net_mbt2018,device)\n",
    "    sample['image'] = img\n",
    "    sample['bpp'] = bpp\n",
    "    return sample\n",
    "\n",
    "def hific_lo_compress_ade(sample):\n",
    "    img,bpp = hific_lo_compress(sample['image'])\n",
    "    sample['image'] = img\n",
    "    sample['bpp' ] = bpp\n",
    "    return sample"
   ]
  },
  {
   "cell_type": "code",
   "execution_count": 3,
   "id": "06f5a4e9-1995-479b-9934-b1c3f07d5b9d",
   "metadata": {},
   "outputs": [],
   "source": [
    "image_compression_methods = [\n",
    "    jpeg_compress_ade,\n",
    "    webp_compress_ade,\n",
    "    mbt2018_compress_ade,\n",
    "    hific_lo_compress_ade\n",
    "]\n",
    "models = [\n",
    "    \"nvidia/segformer-b0-finetuned-ade-512-512\",\n",
    "    \"nvidia/segformer-b2-finetuned-ade-512-512\",\n",
    "    \"nvidia/segformer-b5-finetuned-ade-640-640\"\n",
    "]"
   ]
  },
  {
   "cell_type": "code",
   "execution_count": 4,
   "id": "3f72505a-fefb-45f2-8a4b-596ac2005bb9",
   "metadata": {},
   "outputs": [],
   "source": [
    "ade20k = [load_dataset(\"scene_parse_150\",split='validation[:100]')]"
   ]
  },
  {
   "cell_type": "code",
   "execution_count": 5,
   "id": "f281a14a-8b52-4a0b-bea1-08f88a1f4041",
   "metadata": {},
   "outputs": [],
   "source": [
    "for method in image_compression_methods:\n",
    "    ade20k.append(ade20k[0].map(method))"
   ]
  },
  {
   "cell_type": "code",
   "execution_count": 6,
   "id": "4235bcc9-f6c8-4335-bc30-94ea8cad37a7",
   "metadata": {},
   "outputs": [],
   "source": [
    "mean_iou = evaluate.load(\"mean_iou\")"
   ]
  },
  {
   "cell_type": "code",
   "execution_count": 13,
   "id": "70f4af95-8323-49ba-a751-fad1c8ebaa2c",
   "metadata": {},
   "outputs": [],
   "source": [
    "from torchvision import transforms\n",
    "import numpy as np\n",
    "def evaluate_segmentation_miou(data):\n",
    "    x = []\n",
    "    y = []\n",
    "    for sample in data:\n",
    "        ground_truth = sample['annotation']\n",
    "        img = sample['image']\n",
    "        inputs = extractor(images=img, return_tensors=\"pt\",do_resize=False).to(\"cuda:0\")\n",
    "        outputs = model(**inputs)\n",
    "        logits = outputs.logits  # shape (batch_size, num_labels, height/4, width/4)\n",
    "        predictions = logits.argmax(dim=1)[0].detach().cpu()\n",
    "        resize = transforms.Resize(\n",
    "            (ground_truth.height,ground_truth.width),\n",
    "            antialias=True\n",
    "        )\n",
    "        predictions = resize(\n",
    "            predictions.unsqueeze(0).unsqueeze(0)\n",
    "        )[0][0]\n",
    "    \n",
    "        x.append(np.array(ground_truth))\n",
    "        y.append(np.array(predictions))\n",
    "    return mean_iou.compute(\n",
    "        predictions=y,\n",
    "        references=x,\n",
    "        num_labels=150,\n",
    "        ignore_index=255,\n",
    "        reduce_labels=True\n",
    "    )['mean_iou']"
   ]
  },
  {
   "cell_type": "code",
   "execution_count": 14,
   "id": "7c5818dc-5025-42d1-93d9-f61d59676ac1",
   "metadata": {},
   "outputs": [],
   "source": [
    "img = ade20k[0][0]['image']\n",
    "inputs = extractor(images=img, return_tensors=\"pt\",do_resize=False).to(\"cuda:0\")\n",
    "outputs = model(**inputs)\n",
    "logits = outputs.logits  # shape (batch_size, num_labels, height/4, width/4)\n",
    "predictions = logits.argmax(dim=1)[0].detach()"
   ]
  },
  {
   "cell_type": "code",
   "execution_count": 17,
   "id": "52d9ac4a-8df1-4ff3-80af-9de8a400fdd6",
   "metadata": {},
   "outputs": [
    {
     "name": "stderr",
     "output_type": "stream",
     "text": [
      "/home/dan/.cache/huggingface/modules/evaluate_modules/metrics/evaluate-metric--mean_iou/08bc20f4f895f3caf75fb9e3fada1404bded3c3265243d05327cbb3b9326ffe9/mean_iou.py:260: RuntimeWarning: invalid value encountered in divide\n",
      "  acc = total_area_intersect / total_area_label\n"
     ]
    },
    {
     "data": {
      "application/vnd.jupyter.widget-view+json": {
       "model_id": "a4a4cf8946e848058683ef184f1655ac",
       "version_major": 2,
       "version_minor": 0
      },
      "text/plain": [
       "Downloading (…)rocessor_config.json:   0%|          | 0.00/271 [00:00<?, ?B/s]"
      ]
     },
     "metadata": {},
     "output_type": "display_data"
    },
    {
     "data": {
      "application/vnd.jupyter.widget-view+json": {
       "model_id": "895fdb1a45524afda9037479b329cbfc",
       "version_major": 2,
       "version_minor": 0
      },
      "text/plain": [
       "Downloading (…)lve/main/config.json:   0%|          | 0.00/6.88k [00:00<?, ?B/s]"
      ]
     },
     "metadata": {},
     "output_type": "display_data"
    },
    {
     "data": {
      "application/vnd.jupyter.widget-view+json": {
       "model_id": "2ee74a27d79f428a9e1cee15ba73570a",
       "version_major": 2,
       "version_minor": 0
      },
      "text/plain": [
       "Downloading pytorch_model.bin:   0%|          | 0.00/110M [00:00<?, ?B/s]"
      ]
     },
     "metadata": {},
     "output_type": "display_data"
    },
    {
     "data": {
      "application/vnd.jupyter.widget-view+json": {
       "model_id": "55a0b3f473a2490eb44cc743aa4f6197",
       "version_major": 2,
       "version_minor": 0
      },
      "text/plain": [
       "Downloading (…)rocessor_config.json:   0%|          | 0.00/271 [00:00<?, ?B/s]"
      ]
     },
     "metadata": {},
     "output_type": "display_data"
    },
    {
     "data": {
      "application/vnd.jupyter.widget-view+json": {
       "model_id": "4e27f26181ea47a6bb74ebb0ece426a0",
       "version_major": 2,
       "version_minor": 0
      },
      "text/plain": [
       "Downloading (…)lve/main/config.json:   0%|          | 0.00/6.89k [00:00<?, ?B/s]"
      ]
     },
     "metadata": {},
     "output_type": "display_data"
    },
    {
     "data": {
      "application/vnd.jupyter.widget-view+json": {
       "model_id": "bbe4ae8fd6984b61bfdd57a5e43c9283",
       "version_major": 2,
       "version_minor": 0
      },
      "text/plain": [
       "Downloading pytorch_model.bin:   0%|          | 0.00/339M [00:00<?, ?B/s]"
      ]
     },
     "metadata": {},
     "output_type": "display_data"
    },
    {
     "name": "stderr",
     "output_type": "stream",
     "text": [
      "/home/dan/.cache/huggingface/modules/evaluate_modules/metrics/evaluate-metric--mean_iou/08bc20f4f895f3caf75fb9e3fada1404bded3c3265243d05327cbb3b9326ffe9/mean_iou.py:259: RuntimeWarning: invalid value encountered in divide\n",
      "  iou = total_area_intersect / total_area_union\n"
     ]
    }
   ],
   "source": [
    "eval_results = []\n",
    "for i_method,method in enumerate(ade20k):\n",
    "    eval_results.append([])\n",
    "    for i_model,model_name in enumerate(models):\n",
    "        extractor = AutoFeatureExtractor.from_pretrained(model_name)\n",
    "        model = SegformerForSemanticSegmentation.from_pretrained(model_name).to(\"cuda:0\")\n",
    "        eval_results[i_method].append(\n",
    "            evaluate_segmentation_miou(method)\n",
    "        )"
   ]
  },
  {
   "cell_type": "code",
   "execution_count": 18,
   "id": "29eefd6f-cd00-48f3-b8f8-ba3ebfded1a4",
   "metadata": {},
   "outputs": [
    {
     "data": {
      "text/plain": [
       "[[0.2179962219278336, 0.2661512252963287, 0.28154993702999215],\n",
       " [0.09736559130225683, 0.15950990338963633, 0.16076962220495397],\n",
       " [0.14695622531768182, 0.18583407586326606, 0.20174996631311962],\n",
       " [0.11058525161913754, 0.13802783140493485, 0.1540462591520832],\n",
       " [0.20660080180962445, 0.24499494687817394, 0.2615260820411224]]"
      ]
     },
     "execution_count": 18,
     "metadata": {},
     "output_type": "execute_result"
    }
   ],
   "source": [
    "eval_results"
   ]
  }
 ],
 "metadata": {
  "kernelspec": {
   "display_name": "Python 3 (ipykernel)",
   "language": "python",
   "name": "python3"
  },
  "language_info": {
   "codemirror_mode": {
    "name": "ipython",
    "version": 3
   },
   "file_extension": ".py",
   "mimetype": "text/x-python",
   "name": "python",
   "nbconvert_exporter": "python",
   "pygments_lexer": "ipython3",
   "version": "3.10.12"
  }
 },
 "nbformat": 4,
 "nbformat_minor": 5
}
